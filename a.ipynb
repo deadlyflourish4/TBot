{
 "cells": [
  {
   "cell_type": "code",
   "execution_count": 4,
   "id": "1c6478e8",
   "metadata": {},
   "outputs": [],
   "source": [
    "import os \n",
    "from langdetect import detect\n",
    "import edge_tts\n",
    "from pydantic import BaseModel\n",
    "import uuid\n",
    "import pathlib\n",
    "from google.cloud import storage\n",
    "from urllib.parse import urlparse\n",
    "from google.cloud import exceptions"
   ]
  },
  {
   "cell_type": "code",
   "execution_count": 5,
   "id": "1c9a74ac",
   "metadata": {},
   "outputs": [],
   "source": [
    "class TextRequest(BaseModel):\n",
    "    text: str"
   ]
  },
  {
   "cell_type": "code",
   "execution_count": null,
   "id": "6e7c97d7",
   "metadata": {},
   "outputs": [],
   "source": [
    "class GCStorage:\n",
    "    def __init__(self, credentials_path: str | None = None):\n",
    "        if credentials_path:\n",
    "            os.environ[\"GOOGLE_APPLICATION_CREDENTIALS\"] = credentials_path\n",
    "\n",
    "        self.client = storage.Client()\n",
    "\n",
    "    def upload_blob(self, bucket_name, src_file_name):\n",
    "        bucket = self.client.bucket(bucket_name)\n",
    "        blob_name = os.path.basename(src_file_name)\n",
    "        blob = bucket.blob(blob_name)\n",
    "        blob.upload_from_filename(src_file_name)\n",
    "        blob.make_public()\n",
    "        return blob.public_url\n",
    "    \n",
    "    def delete_blob(self, url: str):\n",
    "        \"\"\"\n",
    "        Delete a blob from its public URL or gs:// path.\n",
    "        Args:\n",
    "            url: The public URL (https://storage.googleapis.com/...) or gs:// path.\n",
    "        \"\"\"\n",
    "        try:\n",
    "            # Parse bucket name and blob name from URL\n",
    "            if url.startswith(\"gs://\"):\n",
    "                # Example: gs://my-bucket/tts/audio.mp3\n",
    "                parts = url.replace(\"gs://\", \"\").split(\"/\", 1)\n",
    "                bucket_name, blob_name = parts[0], parts[1]\n",
    "            else:\n",
    "                # Example: https://storage.googleapis.com/my-bucket/tts/audio.mp3\n",
    "                parsed = urlparse(url)\n",
    "                parts = parsed.path.lstrip(\"/\").split(\"/\", 1)\n",
    "                bucket_name, blob_name = parts[0], parts[1]\n",
    "\n",
    "            bucket = self.client.bucket(bucket_name)\n",
    "            blob = bucket.blob(blob_name)\n",
    "            blob.delete()\n",
    "\n",
    "        except exceptions.NotFound:\n",
    "            print(f\"File not found: gs://{bucket_name}/{blob_name}\")\n",
    "\n",
    "        except Exception as e:\n",
    "            print(f\"Delete error: {e}\")\n"
   ]
  },
  {
   "cell_type": "code",
   "execution_count": 18,
   "id": "790ce509",
   "metadata": {},
   "outputs": [
    {
     "data": {
      "text/plain": [
       "'https://storage.googleapis.com/tts-script/1.jpg'"
      ]
     },
     "execution_count": 18,
     "metadata": {},
     "output_type": "execute_result"
    }
   ],
   "source": [
    "a = GCStorage(credentials_path=\"./GCP/rare-karma-468001-k3-a7efcf8a7c80.json\")\n",
    "a.upload_blob(\"tts-script\" ,\"./GCP/1.jpg\")"
   ]
  },
  {
   "cell_type": "code",
   "execution_count": 20,
   "id": "052d151b",
   "metadata": {},
   "outputs": [
    {
     "ename": "NotFound",
     "evalue": "404 DELETE https://storage.googleapis.com/storage/v1/b/tts-script/o/1.jpg?prettyPrint=false: No such object: tts-script/1.jpg",
     "output_type": "error",
     "traceback": [
      "\u001b[31m---------------------------------------------------------------------------\u001b[39m",
      "\u001b[31mNotFound\u001b[39m                                  Traceback (most recent call last)",
      "\u001b[36mCell\u001b[39m\u001b[36m \u001b[39m\u001b[32mIn[20]\u001b[39m\u001b[32m, line 1\u001b[39m\n\u001b[32m----> \u001b[39m\u001b[32m1\u001b[39m \u001b[43ma\u001b[49m\u001b[43m.\u001b[49m\u001b[43mdelete_blob\u001b[49m\u001b[43m(\u001b[49m\u001b[33;43m'\u001b[39;49m\u001b[33;43mhttps://storage.googleapis.com/tts-script/1.jpg\u001b[39;49m\u001b[33;43m'\u001b[39;49m\u001b[43m)\u001b[49m\n",
      "\u001b[36mCell\u001b[39m\u001b[36m \u001b[39m\u001b[32mIn[16]\u001b[39m\u001b[32m, line 36\u001b[39m, in \u001b[36mGCStorage.delete_blob\u001b[39m\u001b[34m(self, url)\u001b[39m\n\u001b[32m     34\u001b[39m bucket = \u001b[38;5;28mself\u001b[39m.client.bucket(bucket_name)\n\u001b[32m     35\u001b[39m blob = bucket.blob(blob_name)\n\u001b[32m---> \u001b[39m\u001b[32m36\u001b[39m \u001b[43mblob\u001b[49m\u001b[43m.\u001b[49m\u001b[43mdelete\u001b[49m\u001b[43m(\u001b[49m\u001b[43m)\u001b[49m\n",
      "\u001b[36mFile \u001b[39m\u001b[32md:\\App\\Miniconda\\envs\\chatbot\\Lib\\site-packages\\google\\cloud\\storage\\blob.py:848\u001b[39m, in \u001b[36mBlob.delete\u001b[39m\u001b[34m(self, client, if_generation_match, if_generation_not_match, if_metageneration_match, if_metageneration_not_match, timeout, retry)\u001b[39m\n\u001b[32m    795\u001b[39m \u001b[38;5;250m\u001b[39m\u001b[33;03m\"\"\"Deletes a blob from Cloud Storage.\u001b[39;00m\n\u001b[32m    796\u001b[39m \n\u001b[32m    797\u001b[39m \u001b[33;03mIf :attr:`user_project` is set on the bucket, bills the API request\u001b[39;00m\n\u001b[32m   (...)\u001b[39m\u001b[32m    845\u001b[39m \u001b[33;03m         :meth:`google.cloud.storage.bucket.Bucket.delete_blob`).\u001b[39;00m\n\u001b[32m    846\u001b[39m \u001b[33;03m\"\"\"\u001b[39;00m\n\u001b[32m    847\u001b[39m \u001b[38;5;28;01mwith\u001b[39;00m create_trace_span(name=\u001b[33m\"\u001b[39m\u001b[33mStorage.Blob.delete\u001b[39m\u001b[33m\"\u001b[39m):\n\u001b[32m--> \u001b[39m\u001b[32m848\u001b[39m     \u001b[38;5;28;43mself\u001b[39;49m\u001b[43m.\u001b[49m\u001b[43mbucket\u001b[49m\u001b[43m.\u001b[49m\u001b[43mdelete_blob\u001b[49m\u001b[43m(\u001b[49m\n\u001b[32m    849\u001b[39m \u001b[43m        \u001b[49m\u001b[38;5;28;43mself\u001b[39;49m\u001b[43m.\u001b[49m\u001b[43mname\u001b[49m\u001b[43m,\u001b[49m\n\u001b[32m    850\u001b[39m \u001b[43m        \u001b[49m\u001b[43mclient\u001b[49m\u001b[43m=\u001b[49m\u001b[43mclient\u001b[49m\u001b[43m,\u001b[49m\n\u001b[32m    851\u001b[39m \u001b[43m        \u001b[49m\u001b[43mgeneration\u001b[49m\u001b[43m=\u001b[49m\u001b[38;5;28;43mself\u001b[39;49m\u001b[43m.\u001b[49m\u001b[43mgeneration\u001b[49m\u001b[43m,\u001b[49m\n\u001b[32m    852\u001b[39m \u001b[43m        \u001b[49m\u001b[43mtimeout\u001b[49m\u001b[43m=\u001b[49m\u001b[43mtimeout\u001b[49m\u001b[43m,\u001b[49m\n\u001b[32m    853\u001b[39m \u001b[43m        \u001b[49m\u001b[43mif_generation_match\u001b[49m\u001b[43m=\u001b[49m\u001b[43mif_generation_match\u001b[49m\u001b[43m,\u001b[49m\n\u001b[32m    854\u001b[39m \u001b[43m        \u001b[49m\u001b[43mif_generation_not_match\u001b[49m\u001b[43m=\u001b[49m\u001b[43mif_generation_not_match\u001b[49m\u001b[43m,\u001b[49m\n\u001b[32m    855\u001b[39m \u001b[43m        \u001b[49m\u001b[43mif_metageneration_match\u001b[49m\u001b[43m=\u001b[49m\u001b[43mif_metageneration_match\u001b[49m\u001b[43m,\u001b[49m\n\u001b[32m    856\u001b[39m \u001b[43m        \u001b[49m\u001b[43mif_metageneration_not_match\u001b[49m\u001b[43m=\u001b[49m\u001b[43mif_metageneration_not_match\u001b[49m\u001b[43m,\u001b[49m\n\u001b[32m    857\u001b[39m \u001b[43m        \u001b[49m\u001b[43mretry\u001b[49m\u001b[43m=\u001b[49m\u001b[43mretry\u001b[49m\u001b[43m,\u001b[49m\n\u001b[32m    858\u001b[39m \u001b[43m    \u001b[49m\u001b[43m)\u001b[49m\n",
      "\u001b[36mFile \u001b[39m\u001b[32md:\\App\\Miniconda\\envs\\chatbot\\Lib\\site-packages\\google\\cloud\\storage\\bucket.py:1817\u001b[39m, in \u001b[36mBucket.delete_blob\u001b[39m\u001b[34m(self, blob_name, client, generation, if_generation_match, if_generation_not_match, if_metageneration_match, if_metageneration_not_match, timeout, retry)\u001b[39m\n\u001b[32m   1807\u001b[39m _add_generation_match_parameters(\n\u001b[32m   1808\u001b[39m     query_params,\n\u001b[32m   1809\u001b[39m     if_generation_match=if_generation_match,\n\u001b[32m   (...)\u001b[39m\u001b[32m   1812\u001b[39m     if_metageneration_not_match=if_metageneration_not_match,\n\u001b[32m   1813\u001b[39m )\n\u001b[32m   1814\u001b[39m \u001b[38;5;66;03m# We intentionally pass `_target_object=None` since a DELETE\u001b[39;00m\n\u001b[32m   1815\u001b[39m \u001b[38;5;66;03m# request has no response value (whether in a standard request or\u001b[39;00m\n\u001b[32m   1816\u001b[39m \u001b[38;5;66;03m# in a batch request).\u001b[39;00m\n\u001b[32m-> \u001b[39m\u001b[32m1817\u001b[39m \u001b[43mclient\u001b[49m\u001b[43m.\u001b[49m\u001b[43m_delete_resource\u001b[49m\u001b[43m(\u001b[49m\n\u001b[32m   1818\u001b[39m \u001b[43m    \u001b[49m\u001b[43mblob\u001b[49m\u001b[43m.\u001b[49m\u001b[43mpath\u001b[49m\u001b[43m,\u001b[49m\n\u001b[32m   1819\u001b[39m \u001b[43m    \u001b[49m\u001b[43mquery_params\u001b[49m\u001b[43m=\u001b[49m\u001b[43mquery_params\u001b[49m\u001b[43m,\u001b[49m\n\u001b[32m   1820\u001b[39m \u001b[43m    \u001b[49m\u001b[43mtimeout\u001b[49m\u001b[43m=\u001b[49m\u001b[43mtimeout\u001b[49m\u001b[43m,\u001b[49m\n\u001b[32m   1821\u001b[39m \u001b[43m    \u001b[49m\u001b[43mretry\u001b[49m\u001b[43m=\u001b[49m\u001b[43mretry\u001b[49m\u001b[43m,\u001b[49m\n\u001b[32m   1822\u001b[39m \u001b[43m    \u001b[49m\u001b[43m_target_object\u001b[49m\u001b[43m=\u001b[49m\u001b[38;5;28;43;01mNone\u001b[39;49;00m\u001b[43m,\u001b[49m\n\u001b[32m   1823\u001b[39m \u001b[43m\u001b[49m\u001b[43m)\u001b[49m\n",
      "\u001b[36mFile \u001b[39m\u001b[32md:\\App\\Miniconda\\envs\\chatbot\\Lib\\site-packages\\google\\cloud\\storage\\client.py:811\u001b[39m, in \u001b[36mClient._delete_resource\u001b[39m\u001b[34m(self, path, query_params, headers, timeout, retry, _target_object)\u001b[39m\n\u001b[32m    755\u001b[39m \u001b[38;5;28;01mdef\u001b[39;00m\u001b[38;5;250m \u001b[39m\u001b[34m_delete_resource\u001b[39m(\n\u001b[32m    756\u001b[39m     \u001b[38;5;28mself\u001b[39m,\n\u001b[32m    757\u001b[39m     path,\n\u001b[32m   (...)\u001b[39m\u001b[32m    762\u001b[39m     _target_object=\u001b[38;5;28;01mNone\u001b[39;00m,\n\u001b[32m    763\u001b[39m ):\n\u001b[32m    764\u001b[39m \u001b[38;5;250m    \u001b[39m\u001b[33;03m\"\"\"Helper for bucket / blob methods making API 'DELETE' calls.\u001b[39;00m\n\u001b[32m    765\u001b[39m \n\u001b[32m    766\u001b[39m \u001b[33;03m    Args:\u001b[39;00m\n\u001b[32m   (...)\u001b[39m\u001b[32m    809\u001b[39m \u001b[33;03m            If the bucket is not found.\u001b[39;00m\n\u001b[32m    810\u001b[39m \u001b[33;03m    \"\"\"\u001b[39;00m\n\u001b[32m--> \u001b[39m\u001b[32m811\u001b[39m     \u001b[38;5;28;01mreturn\u001b[39;00m \u001b[38;5;28;43mself\u001b[39;49m\u001b[43m.\u001b[49m\u001b[43m_connection\u001b[49m\u001b[43m.\u001b[49m\u001b[43mapi_request\u001b[49m\u001b[43m(\u001b[49m\n\u001b[32m    812\u001b[39m \u001b[43m        \u001b[49m\u001b[43mmethod\u001b[49m\u001b[43m=\u001b[49m\u001b[33;43m\"\u001b[39;49m\u001b[33;43mDELETE\u001b[39;49m\u001b[33;43m\"\u001b[39;49m\u001b[43m,\u001b[49m\n\u001b[32m    813\u001b[39m \u001b[43m        \u001b[49m\u001b[43mpath\u001b[49m\u001b[43m=\u001b[49m\u001b[43mpath\u001b[49m\u001b[43m,\u001b[49m\n\u001b[32m    814\u001b[39m \u001b[43m        \u001b[49m\u001b[43mquery_params\u001b[49m\u001b[43m=\u001b[49m\u001b[43mquery_params\u001b[49m\u001b[43m,\u001b[49m\n\u001b[32m    815\u001b[39m \u001b[43m        \u001b[49m\u001b[43mheaders\u001b[49m\u001b[43m=\u001b[49m\u001b[43mheaders\u001b[49m\u001b[43m,\u001b[49m\n\u001b[32m    816\u001b[39m \u001b[43m        \u001b[49m\u001b[43mtimeout\u001b[49m\u001b[43m=\u001b[49m\u001b[43mtimeout\u001b[49m\u001b[43m,\u001b[49m\n\u001b[32m    817\u001b[39m \u001b[43m        \u001b[49m\u001b[43mretry\u001b[49m\u001b[43m=\u001b[49m\u001b[43mretry\u001b[49m\u001b[43m,\u001b[49m\n\u001b[32m    818\u001b[39m \u001b[43m        \u001b[49m\u001b[43m_target_object\u001b[49m\u001b[43m=\u001b[49m\u001b[43m_target_object\u001b[49m\u001b[43m,\u001b[49m\n\u001b[32m    819\u001b[39m \u001b[43m    \u001b[49m\u001b[43m)\u001b[49m\n",
      "\u001b[36mFile \u001b[39m\u001b[32md:\\App\\Miniconda\\envs\\chatbot\\Lib\\site-packages\\google\\cloud\\storage\\_http.py:90\u001b[39m, in \u001b[36mConnection.api_request\u001b[39m\u001b[34m(self, *args, **kwargs)\u001b[39m\n\u001b[32m     88\u001b[39m     \u001b[38;5;28;01mif\u001b[39;00m retry:\n\u001b[32m     89\u001b[39m         call = retry(call)\n\u001b[32m---> \u001b[39m\u001b[32m90\u001b[39m \u001b[38;5;28;01mreturn\u001b[39;00m \u001b[43mcall\u001b[49m\u001b[43m(\u001b[49m\u001b[43m)\u001b[49m\n",
      "\u001b[36mFile \u001b[39m\u001b[32md:\\App\\Miniconda\\envs\\chatbot\\Lib\\site-packages\\google\\api_core\\retry\\retry_unary.py:294\u001b[39m, in \u001b[36mRetry.__call__.<locals>.retry_wrapped_func\u001b[39m\u001b[34m(*args, **kwargs)\u001b[39m\n\u001b[32m    290\u001b[39m target = functools.partial(func, *args, **kwargs)\n\u001b[32m    291\u001b[39m sleep_generator = exponential_sleep_generator(\n\u001b[32m    292\u001b[39m     \u001b[38;5;28mself\u001b[39m._initial, \u001b[38;5;28mself\u001b[39m._maximum, multiplier=\u001b[38;5;28mself\u001b[39m._multiplier\n\u001b[32m    293\u001b[39m )\n\u001b[32m--> \u001b[39m\u001b[32m294\u001b[39m \u001b[38;5;28;01mreturn\u001b[39;00m \u001b[43mretry_target\u001b[49m\u001b[43m(\u001b[49m\n\u001b[32m    295\u001b[39m \u001b[43m    \u001b[49m\u001b[43mtarget\u001b[49m\u001b[43m,\u001b[49m\n\u001b[32m    296\u001b[39m \u001b[43m    \u001b[49m\u001b[38;5;28;43mself\u001b[39;49m\u001b[43m.\u001b[49m\u001b[43m_predicate\u001b[49m\u001b[43m,\u001b[49m\n\u001b[32m    297\u001b[39m \u001b[43m    \u001b[49m\u001b[43msleep_generator\u001b[49m\u001b[43m,\u001b[49m\n\u001b[32m    298\u001b[39m \u001b[43m    \u001b[49m\u001b[43mtimeout\u001b[49m\u001b[43m=\u001b[49m\u001b[38;5;28;43mself\u001b[39;49m\u001b[43m.\u001b[49m\u001b[43m_timeout\u001b[49m\u001b[43m,\u001b[49m\n\u001b[32m    299\u001b[39m \u001b[43m    \u001b[49m\u001b[43mon_error\u001b[49m\u001b[43m=\u001b[49m\u001b[43mon_error\u001b[49m\u001b[43m,\u001b[49m\n\u001b[32m    300\u001b[39m \u001b[43m\u001b[49m\u001b[43m)\u001b[49m\n",
      "\u001b[36mFile \u001b[39m\u001b[32md:\\App\\Miniconda\\envs\\chatbot\\Lib\\site-packages\\google\\api_core\\retry\\retry_unary.py:156\u001b[39m, in \u001b[36mretry_target\u001b[39m\u001b[34m(target, predicate, sleep_generator, timeout, on_error, exception_factory, **kwargs)\u001b[39m\n\u001b[32m    152\u001b[39m \u001b[38;5;66;03m# pylint: disable=broad-except\u001b[39;00m\n\u001b[32m    153\u001b[39m \u001b[38;5;66;03m# This function explicitly must deal with broad exceptions.\u001b[39;00m\n\u001b[32m    154\u001b[39m \u001b[38;5;28;01mexcept\u001b[39;00m \u001b[38;5;167;01mException\u001b[39;00m \u001b[38;5;28;01mas\u001b[39;00m exc:\n\u001b[32m    155\u001b[39m     \u001b[38;5;66;03m# defer to shared logic for handling errors\u001b[39;00m\n\u001b[32m--> \u001b[39m\u001b[32m156\u001b[39m     next_sleep = \u001b[43m_retry_error_helper\u001b[49m\u001b[43m(\u001b[49m\n\u001b[32m    157\u001b[39m \u001b[43m        \u001b[49m\u001b[43mexc\u001b[49m\u001b[43m,\u001b[49m\n\u001b[32m    158\u001b[39m \u001b[43m        \u001b[49m\u001b[43mdeadline\u001b[49m\u001b[43m,\u001b[49m\n\u001b[32m    159\u001b[39m \u001b[43m        \u001b[49m\u001b[43msleep_iter\u001b[49m\u001b[43m,\u001b[49m\n\u001b[32m    160\u001b[39m \u001b[43m        \u001b[49m\u001b[43merror_list\u001b[49m\u001b[43m,\u001b[49m\n\u001b[32m    161\u001b[39m \u001b[43m        \u001b[49m\u001b[43mpredicate\u001b[49m\u001b[43m,\u001b[49m\n\u001b[32m    162\u001b[39m \u001b[43m        \u001b[49m\u001b[43mon_error\u001b[49m\u001b[43m,\u001b[49m\n\u001b[32m    163\u001b[39m \u001b[43m        \u001b[49m\u001b[43mexception_factory\u001b[49m\u001b[43m,\u001b[49m\n\u001b[32m    164\u001b[39m \u001b[43m        \u001b[49m\u001b[43mtimeout\u001b[49m\u001b[43m,\u001b[49m\n\u001b[32m    165\u001b[39m \u001b[43m    \u001b[49m\u001b[43m)\u001b[49m\n\u001b[32m    166\u001b[39m     \u001b[38;5;66;03m# if exception not raised, sleep before next attempt\u001b[39;00m\n\u001b[32m    167\u001b[39m     time.sleep(next_sleep)\n",
      "\u001b[36mFile \u001b[39m\u001b[32md:\\App\\Miniconda\\envs\\chatbot\\Lib\\site-packages\\google\\api_core\\retry\\retry_base.py:214\u001b[39m, in \u001b[36m_retry_error_helper\u001b[39m\u001b[34m(exc, deadline, sleep_iterator, error_list, predicate_fn, on_error_fn, exc_factory_fn, original_timeout)\u001b[39m\n\u001b[32m    208\u001b[39m \u001b[38;5;28;01mif\u001b[39;00m \u001b[38;5;129;01mnot\u001b[39;00m predicate_fn(exc):\n\u001b[32m    209\u001b[39m     final_exc, source_exc = exc_factory_fn(\n\u001b[32m    210\u001b[39m         error_list,\n\u001b[32m    211\u001b[39m         RetryFailureReason.NON_RETRYABLE_ERROR,\n\u001b[32m    212\u001b[39m         original_timeout,\n\u001b[32m    213\u001b[39m     )\n\u001b[32m--> \u001b[39m\u001b[32m214\u001b[39m     \u001b[38;5;28;01mraise\u001b[39;00m final_exc \u001b[38;5;28;01mfrom\u001b[39;00m\u001b[38;5;250m \u001b[39m\u001b[34;01msource_exc\u001b[39;00m\n\u001b[32m    215\u001b[39m \u001b[38;5;28;01mif\u001b[39;00m on_error_fn \u001b[38;5;129;01mis\u001b[39;00m \u001b[38;5;129;01mnot\u001b[39;00m \u001b[38;5;28;01mNone\u001b[39;00m:\n\u001b[32m    216\u001b[39m     on_error_fn(exc)\n",
      "\u001b[36mFile \u001b[39m\u001b[32md:\\App\\Miniconda\\envs\\chatbot\\Lib\\site-packages\\google\\api_core\\retry\\retry_unary.py:147\u001b[39m, in \u001b[36mretry_target\u001b[39m\u001b[34m(target, predicate, sleep_generator, timeout, on_error, exception_factory, **kwargs)\u001b[39m\n\u001b[32m    145\u001b[39m \u001b[38;5;28;01mwhile\u001b[39;00m \u001b[38;5;28;01mTrue\u001b[39;00m:\n\u001b[32m    146\u001b[39m     \u001b[38;5;28;01mtry\u001b[39;00m:\n\u001b[32m--> \u001b[39m\u001b[32m147\u001b[39m         result = \u001b[43mtarget\u001b[49m\u001b[43m(\u001b[49m\u001b[43m)\u001b[49m\n\u001b[32m    148\u001b[39m         \u001b[38;5;28;01mif\u001b[39;00m inspect.isawaitable(result):\n\u001b[32m    149\u001b[39m             warnings.warn(_ASYNC_RETRY_WARNING)\n",
      "\u001b[36mFile \u001b[39m\u001b[32md:\\App\\Miniconda\\envs\\chatbot\\Lib\\site-packages\\google\\cloud\\_http\\__init__.py:494\u001b[39m, in \u001b[36mJSONConnection.api_request\u001b[39m\u001b[34m(self, method, path, query_params, data, content_type, headers, api_base_url, api_version, expect_json, _target_object, timeout, extra_api_info)\u001b[39m\n\u001b[32m    482\u001b[39m response = \u001b[38;5;28mself\u001b[39m._make_request(\n\u001b[32m    483\u001b[39m     method=method,\n\u001b[32m    484\u001b[39m     url=url,\n\u001b[32m   (...)\u001b[39m\u001b[32m    490\u001b[39m     extra_api_info=extra_api_info,\n\u001b[32m    491\u001b[39m )\n\u001b[32m    493\u001b[39m \u001b[38;5;28;01mif\u001b[39;00m \u001b[38;5;129;01mnot\u001b[39;00m \u001b[32m200\u001b[39m <= response.status_code < \u001b[32m300\u001b[39m:\n\u001b[32m--> \u001b[39m\u001b[32m494\u001b[39m     \u001b[38;5;28;01mraise\u001b[39;00m exceptions.from_http_response(response)\n\u001b[32m    496\u001b[39m \u001b[38;5;28;01mif\u001b[39;00m expect_json \u001b[38;5;129;01mand\u001b[39;00m response.content:\n\u001b[32m    497\u001b[39m     \u001b[38;5;28;01mreturn\u001b[39;00m response.json()\n",
      "\u001b[31mNotFound\u001b[39m: 404 DELETE https://storage.googleapis.com/storage/v1/b/tts-script/o/1.jpg?prettyPrint=false: No such object: tts-script/1.jpg"
     ]
    }
   ],
   "source": [
    "a.delete_blob('https://storage.googleapis.com/tts-script/1.jpg')"
   ]
  },
  {
   "cell_type": "code",
   "execution_count": null,
   "id": "e33cd675",
   "metadata": {},
   "outputs": [
    {
     "name": "stdout",
     "output_type": "stream",
     "text": [
      "Attempting to connect to Edge TTS service...\n",
      "An error occurred: Cannot connect to host api.msedgeservices.com:443 ssl:True [SSLCertVerificationError: ('A required certificate is not within its validity period when verifying against the current system clock or the timestamp in the signed file.',)]\n"
     ]
    }
   ],
   "source": [
    "import asyncio\n",
    "import ssl\n",
    "import edge_tts\n",
    "\n",
    "# WARNING: INSECURE - Disables all SSL certificate verification\n",
    "# This should only be used for temporary debugging.\n",
    "ssl._create_default_https_context = ssl._create_unverified_context\n",
    "\n",
    "async def test():\n",
    "    print(\"Attempting to connect to Edge TTS service...\")\n",
    "    try:\n",
    "        tts = edge_tts.Communicate(\"Hello world\", \"en-US-JennyNeural\")\n",
    "        await tts.save(\"test.mp3\")\n",
    "        print(\"Successfully created test.mp3!\")\n",
    "    except Exception as e:\n",
    "        print(f\"An error occurred: {e}\")\n",
    "\n",
    "# This part remains the same\n",
    "try:\n",
    "    loop = asyncio.get_running_loop()\n",
    "    if loop.is_running():\n",
    "        # If already running (like in Jupyter/IPython)\n",
    "        task = loop.create_task(test())\n",
    "    else:\n",
    "        asyncio.run(test())\n",
    "except RuntimeError:\n",
    "    # For standard Python scripts\n",
    "    asyncio.run(test())"
   ]
  },
  {
   "cell_type": "code",
   "execution_count": 1,
   "id": "4d82ffb1",
   "metadata": {},
   "outputs": [
    {
     "name": "stdout",
     "output_type": "stream",
     "text": [
      "Using: D:\\App\\Miniconda\\envs\\chatbot\\Lib\\site-packages\\certifi\\cacert.pem\n",
      "Certifi: d:\\App\\Miniconda\\envs\\chatbot\\Lib\\site-packages\\certifi\\cacert.pem\n"
     ]
    }
   ],
   "source": [
    "import ssl, certifi\n",
    "print(\"Using:\", ssl.get_default_verify_paths().cafile)\n",
    "print(\"Certifi:\", certifi.where())\n"
   ]
  },
  {
   "cell_type": "code",
   "execution_count": 3,
   "id": "3b66a45e",
   "metadata": {},
   "outputs": [
    {
     "ename": "NameError",
     "evalue": "name 'TextRequest' is not defined",
     "output_type": "error",
     "traceback": [
      "\u001b[31m---------------------------------------------------------------------------\u001b[39m",
      "\u001b[31mNameError\u001b[39m                                 Traceback (most recent call last)",
      "\u001b[36mCell\u001b[39m\u001b[36m \u001b[39m\u001b[32mIn[3]\u001b[39m\u001b[32m, line 1\u001b[39m\n\u001b[32m----> \u001b[39m\u001b[32m1\u001b[39m \u001b[38;5;28;01masync\u001b[39;00m \u001b[38;5;28;01mdef\u001b[39;00m\u001b[38;5;250m \u001b[39m\u001b[34mtext_to_speech\u001b[39m(req: \u001b[43mTextRequest\u001b[49m):\n\u001b[32m      2\u001b[39m     text = req.text.strip()\n\u001b[32m      3\u001b[39m     \u001b[38;5;28;01mif\u001b[39;00m \u001b[38;5;129;01mnot\u001b[39;00m text:\n",
      "\u001b[31mNameError\u001b[39m: name 'TextRequest' is not defined"
     ]
    }
   ],
   "source": [
    "async def text_to_speech(req: TextRequest):\n",
    "    text = req.text.strip()\n",
    "    if not text:\n",
    "        return {\"error\": \"Text cannot be empty\"}\n",
    "    if len(text) > 1000:\n",
    "        return {\"error\": \"Text too long (max 1000 chars)\"}\n",
    "\n",
    "    # Detect language and choose voice\n",
    "    lang_code = detect(text)\n",
    "    voice = f\"en-US-JennyNeural\"  # fallback default\n",
    "    try:\n",
    "        voices = await edge_tts.list_voices()\n",
    "        candidates = [v for v in voices if v[\"Locale\"].startswith(lang_code)]\n",
    "        if candidates:\n",
    "            voice = candidates[0][\"Name\"]\n",
    "    except Exception:\n",
    "        pass\n",
    "\n",
    "    # Prepare file path\n",
    "    os.makedirs(\"outputs\", exist_ok=True)\n",
    "    filename = f\"tts_{uuid.uuid4().hex[:8]}.mp3\"\n",
    "    filepath = os.path.join(\"outputs\", filename)\n",
    "\n",
    "    # Generate TTS to file\n",
    "    communicate = edge_tts.Communicate(\n",
    "        text=text,\n",
    "        voice=voice,\n",
    "        rate=\"-5%\",\n",
    "        volume=\"+5%\",\n",
    "    )\n",
    "    await communicate.save(filepath)\n",
    "\n",
    "    return {\n",
    "        \"status\": \"success\",\n",
    "        \"language_detected\": lang_code,\n",
    "        \"voice_used\": voice,\n",
    "        \"file_path\": filepath,\n",
    "    }"
   ]
  },
  {
   "cell_type": "code",
   "execution_count": null,
   "id": "07c6007a",
   "metadata": {},
   "outputs": [],
   "source": [
    "text_to_speech(\"\")"
   ]
  }
 ],
 "metadata": {
  "kernelspec": {
   "display_name": "chatbot",
   "language": "python",
   "name": "python3"
  },
  "language_info": {
   "codemirror_mode": {
    "name": "ipython",
    "version": 3
   },
   "file_extension": ".py",
   "mimetype": "text/x-python",
   "name": "python",
   "nbconvert_exporter": "python",
   "pygments_lexer": "ipython3",
   "version": "3.11.13"
  }
 },
 "nbformat": 4,
 "nbformat_minor": 5
}
