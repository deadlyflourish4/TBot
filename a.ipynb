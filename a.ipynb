{
 "cells": [
  {
   "cell_type": "code",
   "execution_count": 4,
   "id": "1c6478e8",
   "metadata": {},
   "outputs": [],
   "source": [
    "import os \n",
    "from langdetect import detect\n",
    "import edge_tts\n",
    "from pydantic import BaseModel\n",
    "import uuid\n",
    "import pathlib\n",
    "from google.cloud import storage\n",
    "from urllib.parse import urlparse\n",
    "from google.cloud import exceptions"
   ]
  },
  {
   "cell_type": "code",
   "execution_count": 3,
   "id": "356db892",
   "metadata": {},
   "outputs": [],
   "source": [
    "import langchain"
   ]
  },
  {
   "cell_type": "code",
   "execution_count": 4,
   "id": "17e1c7b7",
   "metadata": {},
   "outputs": [
    {
     "data": {
      "text/plain": [
       "'0.3.27'"
      ]
     },
     "execution_count": 4,
     "metadata": {},
     "output_type": "execute_result"
    }
   ],
   "source": [
    "langchain.__version__"
   ]
  },
  {
   "cell_type": "code",
   "execution_count": 5,
   "id": "1c9a74ac",
   "metadata": {},
   "outputs": [],
   "source": [
    "class TextRequest(BaseModel):\n",
    "    text: str"
   ]
  },
  {
   "cell_type": "code",
   "execution_count": null,
   "id": "6e7c97d7",
   "metadata": {},
   "outputs": [],
   "source": [
    "class GCStorage:\n",
    "    def __init__(self, credentials_path: str | None = None):\n",
    "        if credentials_path:\n",
    "            os.environ[\"GOOGLE_APPLICATION_CREDENTIALS\"] = credentials_path\n",
    "\n",
    "        self.client = storage.Client()\n",
    "\n",
    "    def upload_blob(self, bucket_name, src_file_name):\n",
    "        bucket = self.client.bucket(bucket_name)\n",
    "        blob_name = os.path.basename(src_file_name)\n",
    "        blob = bucket.blob(blob_name)\n",
    "        blob.upload_from_filename(src_file_name)\n",
    "        blob.make_public()\n",
    "        return blob.public_url\n",
    "    \n",
    "    def delete_blob(self, url: str):\n",
    "        \"\"\"\n",
    "        Delete a blob from its public URL or gs:// path.\n",
    "        Args:\n",
    "            url: The public URL (https://storage.googleapis.com/...) or gs:// path.\n",
    "        \"\"\"\n",
    "        try:\n",
    "            # Parse bucket name and blob name from URL\n",
    "            if url.startswith(\"gs://\"):\n",
    "                # Example: gs://my-bucket/tts/audio.mp3\n",
    "                parts = url.replace(\"gs://\", \"\").split(\"/\", 1)\n",
    "                bucket_name, blob_name = parts[0], parts[1]\n",
    "            else:\n",
    "                # Example: https://storage.googleapis.com/my-bucket/tts/audio.mp3\n",
    "                parsed = urlparse(url)\n",
    "                parts = parsed.path.lstrip(\"/\").split(\"/\", 1)\n",
    "                bucket_name, blob_name = parts[0], parts[1]\n",
    "\n",
    "            bucket = self.client.bucket(bucket_name)\n",
    "            blob = bucket.blob(blob_name)\n",
    "            blob.delete()\n",
    "\n",
    "        except exceptions.NotFound:\n",
    "            print(f\"File not found: gs://{bucket_name}/{blob_name}\")\n",
    "\n",
    "        except Exception as e:\n",
    "            print(f\"Delete error: {e}\")\n"
   ]
  },
  {
   "cell_type": "code",
   "execution_count": 18,
   "id": "790ce509",
   "metadata": {},
   "outputs": [
    {
     "data": {
      "text/plain": [
       "'https://storage.googleapis.com/tts-script/1.jpg'"
      ]
     },
     "execution_count": 18,
     "metadata": {},
     "output_type": "execute_result"
    }
   ],
   "source": [
    "a = GCStorage(credentials_path=\"./GCP/rare-karma-468001-k3-a7efcf8a7c80.json\")\n",
    "a.upload_blob(\"tts-script\" ,\"./GCP/1.jpg\")"
   ]
  },
  {
   "cell_type": "code",
   "execution_count": 20,
   "id": "052d151b",
   "metadata": {},
   "outputs": [
    {
     "ename": "NotFound",
     "evalue": "404 DELETE https://storage.googleapis.com/storage/v1/b/tts-script/o/1.jpg?prettyPrint=false: No such object: tts-script/1.jpg",
     "output_type": "error",
     "traceback": [
      "\u001b[31m---------------------------------------------------------------------------\u001b[39m",
      "\u001b[31mNotFound\u001b[39m                                  Traceback (most recent call last)",
      "\u001b[36mCell\u001b[39m\u001b[36m \u001b[39m\u001b[32mIn[20]\u001b[39m\u001b[32m, line 1\u001b[39m\n\u001b[32m----> \u001b[39m\u001b[32m1\u001b[39m \u001b[43ma\u001b[49m\u001b[43m.\u001b[49m\u001b[43mdelete_blob\u001b[49m\u001b[43m(\u001b[49m\u001b[33;43m'\u001b[39;49m\u001b[33;43mhttps://storage.googleapis.com/tts-script/1.jpg\u001b[39;49m\u001b[33;43m'\u001b[39;49m\u001b[43m)\u001b[49m\n",
      "\u001b[36mCell\u001b[39m\u001b[36m \u001b[39m\u001b[32mIn[16]\u001b[39m\u001b[32m, line 36\u001b[39m, in \u001b[36mGCStorage.delete_blob\u001b[39m\u001b[34m(self, url)\u001b[39m\n\u001b[32m     34\u001b[39m bucket = \u001b[38;5;28mself\u001b[39m.client.bucket(bucket_name)\n\u001b[32m     35\u001b[39m blob = bucket.blob(blob_name)\n\u001b[32m---> \u001b[39m\u001b[32m36\u001b[39m \u001b[43mblob\u001b[49m\u001b[43m.\u001b[49m\u001b[43mdelete\u001b[49m\u001b[43m(\u001b[49m\u001b[43m)\u001b[49m\n",
      "\u001b[36mFile \u001b[39m\u001b[32md:\\App\\Miniconda\\envs\\chatbot\\Lib\\site-packages\\google\\cloud\\storage\\blob.py:848\u001b[39m, in \u001b[36mBlob.delete\u001b[39m\u001b[34m(self, client, if_generation_match, if_generation_not_match, if_metageneration_match, if_metageneration_not_match, timeout, retry)\u001b[39m\n\u001b[32m    795\u001b[39m \u001b[38;5;250m\u001b[39m\u001b[33;03m\"\"\"Deletes a blob from Cloud Storage.\u001b[39;00m\n\u001b[32m    796\u001b[39m \n\u001b[32m    797\u001b[39m \u001b[33;03mIf :attr:`user_project` is set on the bucket, bills the API request\u001b[39;00m\n\u001b[32m   (...)\u001b[39m\u001b[32m    845\u001b[39m \u001b[33;03m         :meth:`google.cloud.storage.bucket.Bucket.delete_blob`).\u001b[39;00m\n\u001b[32m    846\u001b[39m \u001b[33;03m\"\"\"\u001b[39;00m\n\u001b[32m    847\u001b[39m \u001b[38;5;28;01mwith\u001b[39;00m create_trace_span(name=\u001b[33m\"\u001b[39m\u001b[33mStorage.Blob.delete\u001b[39m\u001b[33m\"\u001b[39m):\n\u001b[32m--> \u001b[39m\u001b[32m848\u001b[39m     \u001b[38;5;28;43mself\u001b[39;49m\u001b[43m.\u001b[49m\u001b[43mbucket\u001b[49m\u001b[43m.\u001b[49m\u001b[43mdelete_blob\u001b[49m\u001b[43m(\u001b[49m\n\u001b[32m    849\u001b[39m \u001b[43m        \u001b[49m\u001b[38;5;28;43mself\u001b[39;49m\u001b[43m.\u001b[49m\u001b[43mname\u001b[49m\u001b[43m,\u001b[49m\n\u001b[32m    850\u001b[39m \u001b[43m        \u001b[49m\u001b[43mclient\u001b[49m\u001b[43m=\u001b[49m\u001b[43mclient\u001b[49m\u001b[43m,\u001b[49m\n\u001b[32m    851\u001b[39m \u001b[43m        \u001b[49m\u001b[43mgeneration\u001b[49m\u001b[43m=\u001b[49m\u001b[38;5;28;43mself\u001b[39;49m\u001b[43m.\u001b[49m\u001b[43mgeneration\u001b[49m\u001b[43m,\u001b[49m\n\u001b[32m    852\u001b[39m \u001b[43m        \u001b[49m\u001b[43mtimeout\u001b[49m\u001b[43m=\u001b[49m\u001b[43mtimeout\u001b[49m\u001b[43m,\u001b[49m\n\u001b[32m    853\u001b[39m \u001b[43m        \u001b[49m\u001b[43mif_generation_match\u001b[49m\u001b[43m=\u001b[49m\u001b[43mif_generation_match\u001b[49m\u001b[43m,\u001b[49m\n\u001b[32m    854\u001b[39m \u001b[43m        \u001b[49m\u001b[43mif_generation_not_match\u001b[49m\u001b[43m=\u001b[49m\u001b[43mif_generation_not_match\u001b[49m\u001b[43m,\u001b[49m\n\u001b[32m    855\u001b[39m \u001b[43m        \u001b[49m\u001b[43mif_metageneration_match\u001b[49m\u001b[43m=\u001b[49m\u001b[43mif_metageneration_match\u001b[49m\u001b[43m,\u001b[49m\n\u001b[32m    856\u001b[39m \u001b[43m        \u001b[49m\u001b[43mif_metageneration_not_match\u001b[49m\u001b[43m=\u001b[49m\u001b[43mif_metageneration_not_match\u001b[49m\u001b[43m,\u001b[49m\n\u001b[32m    857\u001b[39m \u001b[43m        \u001b[49m\u001b[43mretry\u001b[49m\u001b[43m=\u001b[49m\u001b[43mretry\u001b[49m\u001b[43m,\u001b[49m\n\u001b[32m    858\u001b[39m \u001b[43m    \u001b[49m\u001b[43m)\u001b[49m\n",
      "\u001b[36mFile \u001b[39m\u001b[32md:\\App\\Miniconda\\envs\\chatbot\\Lib\\site-packages\\google\\cloud\\storage\\bucket.py:1817\u001b[39m, in \u001b[36mBucket.delete_blob\u001b[39m\u001b[34m(self, blob_name, client, generation, if_generation_match, if_generation_not_match, if_metageneration_match, if_metageneration_not_match, timeout, retry)\u001b[39m\n\u001b[32m   1807\u001b[39m _add_generation_match_parameters(\n\u001b[32m   1808\u001b[39m     query_params,\n\u001b[32m   1809\u001b[39m     if_generation_match=if_generation_match,\n\u001b[32m   (...)\u001b[39m\u001b[32m   1812\u001b[39m     if_metageneration_not_match=if_metageneration_not_match,\n\u001b[32m   1813\u001b[39m )\n\u001b[32m   1814\u001b[39m \u001b[38;5;66;03m# We intentionally pass `_target_object=None` since a DELETE\u001b[39;00m\n\u001b[32m   1815\u001b[39m \u001b[38;5;66;03m# request has no response value (whether in a standard request or\u001b[39;00m\n\u001b[32m   1816\u001b[39m \u001b[38;5;66;03m# in a batch request).\u001b[39;00m\n\u001b[32m-> \u001b[39m\u001b[32m1817\u001b[39m \u001b[43mclient\u001b[49m\u001b[43m.\u001b[49m\u001b[43m_delete_resource\u001b[49m\u001b[43m(\u001b[49m\n\u001b[32m   1818\u001b[39m \u001b[43m    \u001b[49m\u001b[43mblob\u001b[49m\u001b[43m.\u001b[49m\u001b[43mpath\u001b[49m\u001b[43m,\u001b[49m\n\u001b[32m   1819\u001b[39m \u001b[43m    \u001b[49m\u001b[43mquery_params\u001b[49m\u001b[43m=\u001b[49m\u001b[43mquery_params\u001b[49m\u001b[43m,\u001b[49m\n\u001b[32m   1820\u001b[39m \u001b[43m    \u001b[49m\u001b[43mtimeout\u001b[49m\u001b[43m=\u001b[49m\u001b[43mtimeout\u001b[49m\u001b[43m,\u001b[49m\n\u001b[32m   1821\u001b[39m \u001b[43m    \u001b[49m\u001b[43mretry\u001b[49m\u001b[43m=\u001b[49m\u001b[43mretry\u001b[49m\u001b[43m,\u001b[49m\n\u001b[32m   1822\u001b[39m \u001b[43m    \u001b[49m\u001b[43m_target_object\u001b[49m\u001b[43m=\u001b[49m\u001b[38;5;28;43;01mNone\u001b[39;49;00m\u001b[43m,\u001b[49m\n\u001b[32m   1823\u001b[39m \u001b[43m\u001b[49m\u001b[43m)\u001b[49m\n",
      "\u001b[36mFile \u001b[39m\u001b[32md:\\App\\Miniconda\\envs\\chatbot\\Lib\\site-packages\\google\\cloud\\storage\\client.py:811\u001b[39m, in \u001b[36mClient._delete_resource\u001b[39m\u001b[34m(self, path, query_params, headers, timeout, retry, _target_object)\u001b[39m\n\u001b[32m    755\u001b[39m \u001b[38;5;28;01mdef\u001b[39;00m\u001b[38;5;250m \u001b[39m\u001b[34m_delete_resource\u001b[39m(\n\u001b[32m    756\u001b[39m     \u001b[38;5;28mself\u001b[39m,\n\u001b[32m    757\u001b[39m     path,\n\u001b[32m   (...)\u001b[39m\u001b[32m    762\u001b[39m     _target_object=\u001b[38;5;28;01mNone\u001b[39;00m,\n\u001b[32m    763\u001b[39m ):\n\u001b[32m    764\u001b[39m \u001b[38;5;250m    \u001b[39m\u001b[33;03m\"\"\"Helper for bucket / blob methods making API 'DELETE' calls.\u001b[39;00m\n\u001b[32m    765\u001b[39m \n\u001b[32m    766\u001b[39m \u001b[33;03m    Args:\u001b[39;00m\n\u001b[32m   (...)\u001b[39m\u001b[32m    809\u001b[39m \u001b[33;03m            If the bucket is not found.\u001b[39;00m\n\u001b[32m    810\u001b[39m \u001b[33;03m    \"\"\"\u001b[39;00m\n\u001b[32m--> \u001b[39m\u001b[32m811\u001b[39m     \u001b[38;5;28;01mreturn\u001b[39;00m \u001b[38;5;28;43mself\u001b[39;49m\u001b[43m.\u001b[49m\u001b[43m_connection\u001b[49m\u001b[43m.\u001b[49m\u001b[43mapi_request\u001b[49m\u001b[43m(\u001b[49m\n\u001b[32m    812\u001b[39m \u001b[43m        \u001b[49m\u001b[43mmethod\u001b[49m\u001b[43m=\u001b[49m\u001b[33;43m\"\u001b[39;49m\u001b[33;43mDELETE\u001b[39;49m\u001b[33;43m\"\u001b[39;49m\u001b[43m,\u001b[49m\n\u001b[32m    813\u001b[39m \u001b[43m        \u001b[49m\u001b[43mpath\u001b[49m\u001b[43m=\u001b[49m\u001b[43mpath\u001b[49m\u001b[43m,\u001b[49m\n\u001b[32m    814\u001b[39m \u001b[43m        \u001b[49m\u001b[43mquery_params\u001b[49m\u001b[43m=\u001b[49m\u001b[43mquery_params\u001b[49m\u001b[43m,\u001b[49m\n\u001b[32m    815\u001b[39m \u001b[43m        \u001b[49m\u001b[43mheaders\u001b[49m\u001b[43m=\u001b[49m\u001b[43mheaders\u001b[49m\u001b[43m,\u001b[49m\n\u001b[32m    816\u001b[39m \u001b[43m        \u001b[49m\u001b[43mtimeout\u001b[49m\u001b[43m=\u001b[49m\u001b[43mtimeout\u001b[49m\u001b[43m,\u001b[49m\n\u001b[32m    817\u001b[39m \u001b[43m        \u001b[49m\u001b[43mretry\u001b[49m\u001b[43m=\u001b[49m\u001b[43mretry\u001b[49m\u001b[43m,\u001b[49m\n\u001b[32m    818\u001b[39m \u001b[43m        \u001b[49m\u001b[43m_target_object\u001b[49m\u001b[43m=\u001b[49m\u001b[43m_target_object\u001b[49m\u001b[43m,\u001b[49m\n\u001b[32m    819\u001b[39m \u001b[43m    \u001b[49m\u001b[43m)\u001b[49m\n",
      "\u001b[36mFile \u001b[39m\u001b[32md:\\App\\Miniconda\\envs\\chatbot\\Lib\\site-packages\\google\\cloud\\storage\\_http.py:90\u001b[39m, in \u001b[36mConnection.api_request\u001b[39m\u001b[34m(self, *args, **kwargs)\u001b[39m\n\u001b[32m     88\u001b[39m     \u001b[38;5;28;01mif\u001b[39;00m retry:\n\u001b[32m     89\u001b[39m         call = retry(call)\n\u001b[32m---> \u001b[39m\u001b[32m90\u001b[39m \u001b[38;5;28;01mreturn\u001b[39;00m \u001b[43mcall\u001b[49m\u001b[43m(\u001b[49m\u001b[43m)\u001b[49m\n",
      "\u001b[36mFile \u001b[39m\u001b[32md:\\App\\Miniconda\\envs\\chatbot\\Lib\\site-packages\\google\\api_core\\retry\\retry_unary.py:294\u001b[39m, in \u001b[36mRetry.__call__.<locals>.retry_wrapped_func\u001b[39m\u001b[34m(*args, **kwargs)\u001b[39m\n\u001b[32m    290\u001b[39m target = functools.partial(func, *args, **kwargs)\n\u001b[32m    291\u001b[39m sleep_generator = exponential_sleep_generator(\n\u001b[32m    292\u001b[39m     \u001b[38;5;28mself\u001b[39m._initial, \u001b[38;5;28mself\u001b[39m._maximum, multiplier=\u001b[38;5;28mself\u001b[39m._multiplier\n\u001b[32m    293\u001b[39m )\n\u001b[32m--> \u001b[39m\u001b[32m294\u001b[39m \u001b[38;5;28;01mreturn\u001b[39;00m \u001b[43mretry_target\u001b[49m\u001b[43m(\u001b[49m\n\u001b[32m    295\u001b[39m \u001b[43m    \u001b[49m\u001b[43mtarget\u001b[49m\u001b[43m,\u001b[49m\n\u001b[32m    296\u001b[39m \u001b[43m    \u001b[49m\u001b[38;5;28;43mself\u001b[39;49m\u001b[43m.\u001b[49m\u001b[43m_predicate\u001b[49m\u001b[43m,\u001b[49m\n\u001b[32m    297\u001b[39m \u001b[43m    \u001b[49m\u001b[43msleep_generator\u001b[49m\u001b[43m,\u001b[49m\n\u001b[32m    298\u001b[39m \u001b[43m    \u001b[49m\u001b[43mtimeout\u001b[49m\u001b[43m=\u001b[49m\u001b[38;5;28;43mself\u001b[39;49m\u001b[43m.\u001b[49m\u001b[43m_timeout\u001b[49m\u001b[43m,\u001b[49m\n\u001b[32m    299\u001b[39m \u001b[43m    \u001b[49m\u001b[43mon_error\u001b[49m\u001b[43m=\u001b[49m\u001b[43mon_error\u001b[49m\u001b[43m,\u001b[49m\n\u001b[32m    300\u001b[39m \u001b[43m\u001b[49m\u001b[43m)\u001b[49m\n",
      "\u001b[36mFile \u001b[39m\u001b[32md:\\App\\Miniconda\\envs\\chatbot\\Lib\\site-packages\\google\\api_core\\retry\\retry_unary.py:156\u001b[39m, in \u001b[36mretry_target\u001b[39m\u001b[34m(target, predicate, sleep_generator, timeout, on_error, exception_factory, **kwargs)\u001b[39m\n\u001b[32m    152\u001b[39m \u001b[38;5;66;03m# pylint: disable=broad-except\u001b[39;00m\n\u001b[32m    153\u001b[39m \u001b[38;5;66;03m# This function explicitly must deal with broad exceptions.\u001b[39;00m\n\u001b[32m    154\u001b[39m \u001b[38;5;28;01mexcept\u001b[39;00m \u001b[38;5;167;01mException\u001b[39;00m \u001b[38;5;28;01mas\u001b[39;00m exc:\n\u001b[32m    155\u001b[39m     \u001b[38;5;66;03m# defer to shared logic for handling errors\u001b[39;00m\n\u001b[32m--> \u001b[39m\u001b[32m156\u001b[39m     next_sleep = \u001b[43m_retry_error_helper\u001b[49m\u001b[43m(\u001b[49m\n\u001b[32m    157\u001b[39m \u001b[43m        \u001b[49m\u001b[43mexc\u001b[49m\u001b[43m,\u001b[49m\n\u001b[32m    158\u001b[39m \u001b[43m        \u001b[49m\u001b[43mdeadline\u001b[49m\u001b[43m,\u001b[49m\n\u001b[32m    159\u001b[39m \u001b[43m        \u001b[49m\u001b[43msleep_iter\u001b[49m\u001b[43m,\u001b[49m\n\u001b[32m    160\u001b[39m \u001b[43m        \u001b[49m\u001b[43merror_list\u001b[49m\u001b[43m,\u001b[49m\n\u001b[32m    161\u001b[39m \u001b[43m        \u001b[49m\u001b[43mpredicate\u001b[49m\u001b[43m,\u001b[49m\n\u001b[32m    162\u001b[39m \u001b[43m        \u001b[49m\u001b[43mon_error\u001b[49m\u001b[43m,\u001b[49m\n\u001b[32m    163\u001b[39m \u001b[43m        \u001b[49m\u001b[43mexception_factory\u001b[49m\u001b[43m,\u001b[49m\n\u001b[32m    164\u001b[39m \u001b[43m        \u001b[49m\u001b[43mtimeout\u001b[49m\u001b[43m,\u001b[49m\n\u001b[32m    165\u001b[39m \u001b[43m    \u001b[49m\u001b[43m)\u001b[49m\n\u001b[32m    166\u001b[39m     \u001b[38;5;66;03m# if exception not raised, sleep before next attempt\u001b[39;00m\n\u001b[32m    167\u001b[39m     time.sleep(next_sleep)\n",
      "\u001b[36mFile \u001b[39m\u001b[32md:\\App\\Miniconda\\envs\\chatbot\\Lib\\site-packages\\google\\api_core\\retry\\retry_base.py:214\u001b[39m, in \u001b[36m_retry_error_helper\u001b[39m\u001b[34m(exc, deadline, sleep_iterator, error_list, predicate_fn, on_error_fn, exc_factory_fn, original_timeout)\u001b[39m\n\u001b[32m    208\u001b[39m \u001b[38;5;28;01mif\u001b[39;00m \u001b[38;5;129;01mnot\u001b[39;00m predicate_fn(exc):\n\u001b[32m    209\u001b[39m     final_exc, source_exc = exc_factory_fn(\n\u001b[32m    210\u001b[39m         error_list,\n\u001b[32m    211\u001b[39m         RetryFailureReason.NON_RETRYABLE_ERROR,\n\u001b[32m    212\u001b[39m         original_timeout,\n\u001b[32m    213\u001b[39m     )\n\u001b[32m--> \u001b[39m\u001b[32m214\u001b[39m     \u001b[38;5;28;01mraise\u001b[39;00m final_exc \u001b[38;5;28;01mfrom\u001b[39;00m\u001b[38;5;250m \u001b[39m\u001b[34;01msource_exc\u001b[39;00m\n\u001b[32m    215\u001b[39m \u001b[38;5;28;01mif\u001b[39;00m on_error_fn \u001b[38;5;129;01mis\u001b[39;00m \u001b[38;5;129;01mnot\u001b[39;00m \u001b[38;5;28;01mNone\u001b[39;00m:\n\u001b[32m    216\u001b[39m     on_error_fn(exc)\n",
      "\u001b[36mFile \u001b[39m\u001b[32md:\\App\\Miniconda\\envs\\chatbot\\Lib\\site-packages\\google\\api_core\\retry\\retry_unary.py:147\u001b[39m, in \u001b[36mretry_target\u001b[39m\u001b[34m(target, predicate, sleep_generator, timeout, on_error, exception_factory, **kwargs)\u001b[39m\n\u001b[32m    145\u001b[39m \u001b[38;5;28;01mwhile\u001b[39;00m \u001b[38;5;28;01mTrue\u001b[39;00m:\n\u001b[32m    146\u001b[39m     \u001b[38;5;28;01mtry\u001b[39;00m:\n\u001b[32m--> \u001b[39m\u001b[32m147\u001b[39m         result = \u001b[43mtarget\u001b[49m\u001b[43m(\u001b[49m\u001b[43m)\u001b[49m\n\u001b[32m    148\u001b[39m         \u001b[38;5;28;01mif\u001b[39;00m inspect.isawaitable(result):\n\u001b[32m    149\u001b[39m             warnings.warn(_ASYNC_RETRY_WARNING)\n",
      "\u001b[36mFile \u001b[39m\u001b[32md:\\App\\Miniconda\\envs\\chatbot\\Lib\\site-packages\\google\\cloud\\_http\\__init__.py:494\u001b[39m, in \u001b[36mJSONConnection.api_request\u001b[39m\u001b[34m(self, method, path, query_params, data, content_type, headers, api_base_url, api_version, expect_json, _target_object, timeout, extra_api_info)\u001b[39m\n\u001b[32m    482\u001b[39m response = \u001b[38;5;28mself\u001b[39m._make_request(\n\u001b[32m    483\u001b[39m     method=method,\n\u001b[32m    484\u001b[39m     url=url,\n\u001b[32m   (...)\u001b[39m\u001b[32m    490\u001b[39m     extra_api_info=extra_api_info,\n\u001b[32m    491\u001b[39m )\n\u001b[32m    493\u001b[39m \u001b[38;5;28;01mif\u001b[39;00m \u001b[38;5;129;01mnot\u001b[39;00m \u001b[32m200\u001b[39m <= response.status_code < \u001b[32m300\u001b[39m:\n\u001b[32m--> \u001b[39m\u001b[32m494\u001b[39m     \u001b[38;5;28;01mraise\u001b[39;00m exceptions.from_http_response(response)\n\u001b[32m    496\u001b[39m \u001b[38;5;28;01mif\u001b[39;00m expect_json \u001b[38;5;129;01mand\u001b[39;00m response.content:\n\u001b[32m    497\u001b[39m     \u001b[38;5;28;01mreturn\u001b[39;00m response.json()\n",
      "\u001b[31mNotFound\u001b[39m: 404 DELETE https://storage.googleapis.com/storage/v1/b/tts-script/o/1.jpg?prettyPrint=false: No such object: tts-script/1.jpg"
     ]
    }
   ],
   "source": [
    "a.delete_blob('https://storage.googleapis.com/tts-script/1.jpg')"
   ]
  },
  {
   "cell_type": "code",
   "execution_count": 9,
   "id": "3d7eb093",
   "metadata": {},
   "outputs": [],
   "source": [
    "import os"
   ]
  },
  {
   "cell_type": "code",
   "execution_count": null,
   "id": "581d3ca4",
   "metadata": {},
   "outputs": [],
   "source": [
    "from google import genai\n",
    "from google.genai.types import GenerateContentConfig, Modality, Part, ImageConfig\n",
    "from PIL import Image\n",
    "from io import BytesIO\n",
    "\n",
    "def generate_multi_style_image(\n",
    "    content_uri: str,\n",
    "    style_uris: list[str],\n",
    "    prompt: str = (\n",
    "        \"Generate an image that keeps the composition of the content image \"\n",
    "        \"but adopts the color palette and lighting style of the reference images.\"\n",
    "    ),\n",
    "    aspect_ratio: str = \"1:1\",\n",
    "    model_id: str = \"gemini-2.0-flash\",\n",
    "    output_path: str = \"styled_result2.png\",\n",
    "):\n",
    "    \"\"\"\n",
    "    Generate an image based on one content image and multiple style reference images using Vertex AI (Gemini/Imagen).\n",
    "    \n",
    "    Args:\n",
    "        content_uri: GCS URI of the main content image.\n",
    "        style_uris: List of GCS URIs for style reference images.\n",
    "        prompt: Instruction describing how to combine content and styles.\n",
    "        aspect_ratio: Output aspect ratio (\"1:1\", \"16:9\", etc.)\n",
    "        model_id: The Gemini or Imagen model to use.\n",
    "        output_path: Local path to save the generated image.\n",
    "    \"\"\"\n",
    "    os.environ[\"GOOGLE_APPLICATION_CREDENTIALS\"] = \"./GCP/guidepassasiacloud-8493e3dfd4c1.json\"\n",
    "    client = genai.Client(vertexai=True, project='guidepassasiacloud', location='us-central1')\n",
    "\n",
    "    # Build the \"contents\" parts list with descriptive text\n",
    "    contents = [\n",
    "        \"This is the **content image** whose composition should be followed:\",\n",
    "        Part.from_uri(file_uri=content_uri, mime_type=\"image/jpeg\"),\n",
    "        \"These are **style reference images** whose colors and lighting should be followed:\",\n",
    "    ]\n",
    "    for uri in style_uris:\n",
    "        contents.append(Part.from_uri(file_uri=uri, mime_type=\"image/jpeg\"))\n",
    "\n",
    "    # Add final instruction text\n",
    "    contents.append(prompt)\n",
    "\n",
    "    # Generate\n",
    "    response = client.models.generate_content(\n",
    "        model=model_id,\n",
    "        contents=contents,\n",
    "        config=GenerateContentConfig(\n",
    "            response_modalities=[Modality.IMAGE],\n",
    "            image_config=ImageConfig(aspect_ratio=aspect_ratio),\n",
    "        ),\n",
    "    )\n",
    "\n",
    "    # Parse response\n",
    "    for part in response.candidates[0].content.parts:\n",
    "        img = Image.open(BytesIO(part.inline_data.data))\n",
    "\n",
    "        # Convert sang bytes\n",
    "        buffer = BytesIO()\n",
    "        img.save(buffer, format=\"PNG\")\n",
    "        buffer.seek(0)\n",
    "\n",
    "        # Upload\n",
    "        gcs = GCStorage()\n",
    "        url = gcs.upload_from_bytes(bucket_name=GCStorage, buffer.getvalue(), f\"{uuid.uuid4()}.png\")\n",
    "\n",
    "    return output_path\n"
   ]
  },
  {
   "cell_type": "code",
   "execution_count": 27,
   "id": "1a810ac0",
   "metadata": {},
   "outputs": [
    {
     "ename": "ClientError",
     "evalue": "400 INVALID_ARGUMENT. {'error': {'code': 400, 'message': 'Multi-modal output is not supported.', 'status': 'INVALID_ARGUMENT'}}",
     "output_type": "error",
     "traceback": [
      "\u001b[31m---------------------------------------------------------------------------\u001b[39m",
      "\u001b[31mClientError\u001b[39m                               Traceback (most recent call last)",
      "\u001b[36mCell\u001b[39m\u001b[36m \u001b[39m\u001b[32mIn[27]\u001b[39m\u001b[32m, line 1\u001b[39m\n\u001b[32m----> \u001b[39m\u001b[32m1\u001b[39m \u001b[43mgenerate_multi_style_image\u001b[49m\u001b[43m(\u001b[49m\n\u001b[32m      2\u001b[39m \u001b[43m    \u001b[49m\u001b[43mcontent_uri\u001b[49m\u001b[43m=\u001b[49m\u001b[33;43m\"\u001b[39;49m\u001b[33;43mhttps://storage.googleapis.com/guidepassasia_chatbot/1.jpg\u001b[39;49m\u001b[33;43m\"\u001b[39;49m\u001b[43m,\u001b[49m\n\u001b[32m      3\u001b[39m \u001b[43m    \u001b[49m\u001b[43mstyle_uris\u001b[49m\u001b[43m=\u001b[49m\u001b[43m[\u001b[49m\n\u001b[32m      4\u001b[39m \u001b[43m        \u001b[49m\u001b[33;43m\"\u001b[39;49m\u001b[33;43mhttps://storage.googleapis.com/guidepassasia_chatbot/e137b9da-7278-49d6-8e68-1fe7183c513e.png\u001b[39;49m\u001b[33;43m\"\u001b[39;49m\u001b[43m,\u001b[49m\n\u001b[32m      5\u001b[39m \u001b[43m    \u001b[49m\u001b[43m]\u001b[49m\u001b[43m,\u001b[49m\n\u001b[32m      6\u001b[39m \u001b[43m    \u001b[49m\u001b[43maspect_ratio\u001b[49m\u001b[43m=\u001b[49m\u001b[33;43m\"\u001b[39;49m\u001b[33;43m16:9\u001b[39;49m\u001b[33;43m\"\u001b[39;49m\u001b[43m,\u001b[49m\n\u001b[32m      7\u001b[39m \u001b[43m    \u001b[49m\u001b[43mprompt\u001b[49m\u001b[43m=\u001b[49m\u001b[33;43m\"\u001b[39;49m\u001b[33;43mKeep the subject and framing of the content image, \u001b[39;49m\u001b[33;43m\"\u001b[39;49m\n\u001b[32m      8\u001b[39m \u001b[43m           \u001b[49m\u001b[33;43m\"\u001b[39;49m\u001b[33;43mbut make it look like it was painted in the style of the reference images.\u001b[39;49m\u001b[33;43m\"\u001b[39;49m\n\u001b[32m      9\u001b[39m \u001b[43m)\u001b[49m\n",
      "\u001b[36mCell\u001b[39m\u001b[36m \u001b[39m\u001b[32mIn[26]\u001b[39m\u001b[32m, line 44\u001b[39m, in \u001b[36mgenerate_multi_style_image\u001b[39m\u001b[34m(content_uri, style_uris, prompt, aspect_ratio, model_id, output_path)\u001b[39m\n\u001b[32m     41\u001b[39m contents.append(prompt)\n\u001b[32m     43\u001b[39m \u001b[38;5;66;03m# Generate\u001b[39;00m\n\u001b[32m---> \u001b[39m\u001b[32m44\u001b[39m response = \u001b[43mclient\u001b[49m\u001b[43m.\u001b[49m\u001b[43mmodels\u001b[49m\u001b[43m.\u001b[49m\u001b[43mgenerate_content\u001b[49m\u001b[43m(\u001b[49m\n\u001b[32m     45\u001b[39m \u001b[43m    \u001b[49m\u001b[43mmodel\u001b[49m\u001b[43m=\u001b[49m\u001b[43mmodel_id\u001b[49m\u001b[43m,\u001b[49m\n\u001b[32m     46\u001b[39m \u001b[43m    \u001b[49m\u001b[43mcontents\u001b[49m\u001b[43m=\u001b[49m\u001b[43mcontents\u001b[49m\u001b[43m,\u001b[49m\n\u001b[32m     47\u001b[39m \u001b[43m    \u001b[49m\u001b[43mconfig\u001b[49m\u001b[43m=\u001b[49m\u001b[43mGenerateContentConfig\u001b[49m\u001b[43m(\u001b[49m\n\u001b[32m     48\u001b[39m \u001b[43m        \u001b[49m\u001b[43mresponse_modalities\u001b[49m\u001b[43m=\u001b[49m\u001b[43m[\u001b[49m\u001b[43mModality\u001b[49m\u001b[43m.\u001b[49m\u001b[43mIMAGE\u001b[49m\u001b[43m]\u001b[49m\u001b[43m,\u001b[49m\n\u001b[32m     49\u001b[39m \u001b[43m        \u001b[49m\u001b[43mimage_config\u001b[49m\u001b[43m=\u001b[49m\u001b[43mImageConfig\u001b[49m\u001b[43m(\u001b[49m\u001b[43maspect_ratio\u001b[49m\u001b[43m=\u001b[49m\u001b[43maspect_ratio\u001b[49m\u001b[43m)\u001b[49m\u001b[43m,\u001b[49m\n\u001b[32m     50\u001b[39m \u001b[43m    \u001b[49m\u001b[43m)\u001b[49m\u001b[43m,\u001b[49m\n\u001b[32m     51\u001b[39m \u001b[43m\u001b[49m\u001b[43m)\u001b[49m\n\u001b[32m     53\u001b[39m \u001b[38;5;66;03m# Parse response\u001b[39;00m\n\u001b[32m     54\u001b[39m \u001b[38;5;28;01mfor\u001b[39;00m part \u001b[38;5;129;01min\u001b[39;00m response.candidates[\u001b[32m0\u001b[39m].content.parts:\n",
      "\u001b[36mFile \u001b[39m\u001b[32md:\\App\\Miniconda\\envs\\chatbot\\Lib\\site-packages\\google\\genai\\models.py:5001\u001b[39m, in \u001b[36mModels.generate_content\u001b[39m\u001b[34m(self, model, contents, config)\u001b[39m\n\u001b[32m   4999\u001b[39m \u001b[38;5;28;01mwhile\u001b[39;00m remaining_remote_calls_afc > \u001b[32m0\u001b[39m:\n\u001b[32m   5000\u001b[39m   i += \u001b[32m1\u001b[39m\n\u001b[32m-> \u001b[39m\u001b[32m5001\u001b[39m   response = \u001b[38;5;28;43mself\u001b[39;49m\u001b[43m.\u001b[49m\u001b[43m_generate_content\u001b[49m\u001b[43m(\u001b[49m\n\u001b[32m   5002\u001b[39m \u001b[43m      \u001b[49m\u001b[43mmodel\u001b[49m\u001b[43m=\u001b[49m\u001b[43mmodel\u001b[49m\u001b[43m,\u001b[49m\u001b[43m \u001b[49m\u001b[43mcontents\u001b[49m\u001b[43m=\u001b[49m\u001b[43mcontents\u001b[49m\u001b[43m,\u001b[49m\u001b[43m \u001b[49m\u001b[43mconfig\u001b[49m\u001b[43m=\u001b[49m\u001b[43mparsed_config\u001b[49m\n\u001b[32m   5003\u001b[39m \u001b[43m  \u001b[49m\u001b[43m)\u001b[49m\n\u001b[32m   5005\u001b[39m   function_map = _extra_utils.get_function_map(parsed_config)\n\u001b[32m   5006\u001b[39m   \u001b[38;5;28;01mif\u001b[39;00m \u001b[38;5;129;01mnot\u001b[39;00m function_map:\n",
      "\u001b[36mFile \u001b[39m\u001b[32md:\\App\\Miniconda\\envs\\chatbot\\Lib\\site-packages\\google\\genai\\models.py:3813\u001b[39m, in \u001b[36mModels._generate_content\u001b[39m\u001b[34m(self, model, contents, config)\u001b[39m\n\u001b[32m   3810\u001b[39m request_dict = _common.convert_to_dict(request_dict)\n\u001b[32m   3811\u001b[39m request_dict = _common.encode_unserializable_types(request_dict)\n\u001b[32m-> \u001b[39m\u001b[32m3813\u001b[39m response = \u001b[38;5;28;43mself\u001b[39;49m\u001b[43m.\u001b[49m\u001b[43m_api_client\u001b[49m\u001b[43m.\u001b[49m\u001b[43mrequest\u001b[49m\u001b[43m(\u001b[49m\n\u001b[32m   3814\u001b[39m \u001b[43m    \u001b[49m\u001b[33;43m'\u001b[39;49m\u001b[33;43mpost\u001b[39;49m\u001b[33;43m'\u001b[39;49m\u001b[43m,\u001b[49m\u001b[43m \u001b[49m\u001b[43mpath\u001b[49m\u001b[43m,\u001b[49m\u001b[43m \u001b[49m\u001b[43mrequest_dict\u001b[49m\u001b[43m,\u001b[49m\u001b[43m \u001b[49m\u001b[43mhttp_options\u001b[49m\n\u001b[32m   3815\u001b[39m \u001b[43m\u001b[49m\u001b[43m)\u001b[49m\n\u001b[32m   3817\u001b[39m \u001b[38;5;28;01mif\u001b[39;00m config \u001b[38;5;129;01mis\u001b[39;00m \u001b[38;5;129;01mnot\u001b[39;00m \u001b[38;5;28;01mNone\u001b[39;00m \u001b[38;5;129;01mand\u001b[39;00m \u001b[38;5;28mgetattr\u001b[39m(\n\u001b[32m   3818\u001b[39m     config, \u001b[33m'\u001b[39m\u001b[33mshould_return_http_response\u001b[39m\u001b[33m'\u001b[39m, \u001b[38;5;28;01mNone\u001b[39;00m\n\u001b[32m   3819\u001b[39m ):\n\u001b[32m   3820\u001b[39m   return_value = types.GenerateContentResponse(sdk_http_response=response)\n",
      "\u001b[36mFile \u001b[39m\u001b[32md:\\App\\Miniconda\\envs\\chatbot\\Lib\\site-packages\\google\\genai\\_api_client.py:1307\u001b[39m, in \u001b[36mBaseApiClient.request\u001b[39m\u001b[34m(self, http_method, path, request_dict, http_options)\u001b[39m\n\u001b[32m   1297\u001b[39m \u001b[38;5;28;01mdef\u001b[39;00m\u001b[38;5;250m \u001b[39m\u001b[34mrequest\u001b[39m(\n\u001b[32m   1298\u001b[39m     \u001b[38;5;28mself\u001b[39m,\n\u001b[32m   1299\u001b[39m     http_method: \u001b[38;5;28mstr\u001b[39m,\n\u001b[32m   (...)\u001b[39m\u001b[32m   1302\u001b[39m     http_options: Optional[HttpOptionsOrDict] = \u001b[38;5;28;01mNone\u001b[39;00m,\n\u001b[32m   1303\u001b[39m ) -> SdkHttpResponse:\n\u001b[32m   1304\u001b[39m   http_request = \u001b[38;5;28mself\u001b[39m._build_request(\n\u001b[32m   1305\u001b[39m       http_method, path, request_dict, http_options\n\u001b[32m   1306\u001b[39m   )\n\u001b[32m-> \u001b[39m\u001b[32m1307\u001b[39m   response = \u001b[38;5;28;43mself\u001b[39;49m\u001b[43m.\u001b[49m\u001b[43m_request\u001b[49m\u001b[43m(\u001b[49m\u001b[43mhttp_request\u001b[49m\u001b[43m,\u001b[49m\u001b[43m \u001b[49m\u001b[43mhttp_options\u001b[49m\u001b[43m,\u001b[49m\u001b[43m \u001b[49m\u001b[43mstream\u001b[49m\u001b[43m=\u001b[49m\u001b[38;5;28;43;01mFalse\u001b[39;49;00m\u001b[43m)\u001b[49m\n\u001b[32m   1308\u001b[39m   response_body = (\n\u001b[32m   1309\u001b[39m       response.response_stream[\u001b[32m0\u001b[39m] \u001b[38;5;28;01mif\u001b[39;00m response.response_stream \u001b[38;5;28;01melse\u001b[39;00m \u001b[33m'\u001b[39m\u001b[33m'\u001b[39m\n\u001b[32m   1310\u001b[39m   )\n\u001b[32m   1311\u001b[39m   \u001b[38;5;28;01mreturn\u001b[39;00m SdkHttpResponse(headers=response.headers, body=response_body)\n",
      "\u001b[36mFile \u001b[39m\u001b[32md:\\App\\Miniconda\\envs\\chatbot\\Lib\\site-packages\\google\\genai\\_api_client.py:1143\u001b[39m, in \u001b[36mBaseApiClient._request\u001b[39m\u001b[34m(self, http_request, http_options, stream)\u001b[39m\n\u001b[32m   1140\u001b[39m     retry = tenacity.Retrying(**retry_kwargs)\n\u001b[32m   1141\u001b[39m     \u001b[38;5;28;01mreturn\u001b[39;00m retry(\u001b[38;5;28mself\u001b[39m._request_once, http_request, stream)  \u001b[38;5;66;03m# type: ignore[no-any-return]\u001b[39;00m\n\u001b[32m-> \u001b[39m\u001b[32m1143\u001b[39m \u001b[38;5;28;01mreturn\u001b[39;00m \u001b[38;5;28;43mself\u001b[39;49m\u001b[43m.\u001b[49m\u001b[43m_retry\u001b[49m\u001b[43m(\u001b[49m\u001b[38;5;28;43mself\u001b[39;49m\u001b[43m.\u001b[49m\u001b[43m_request_once\u001b[49m\u001b[43m,\u001b[49m\u001b[43m \u001b[49m\u001b[43mhttp_request\u001b[49m\u001b[43m,\u001b[49m\u001b[43m \u001b[49m\u001b[43mstream\u001b[49m\u001b[43m)\u001b[49m\n",
      "\u001b[36mFile \u001b[39m\u001b[32md:\\App\\Miniconda\\envs\\chatbot\\Lib\\site-packages\\tenacity\\__init__.py:477\u001b[39m, in \u001b[36mRetrying.__call__\u001b[39m\u001b[34m(self, fn, *args, **kwargs)\u001b[39m\n\u001b[32m    475\u001b[39m retry_state = RetryCallState(retry_object=\u001b[38;5;28mself\u001b[39m, fn=fn, args=args, kwargs=kwargs)\n\u001b[32m    476\u001b[39m \u001b[38;5;28;01mwhile\u001b[39;00m \u001b[38;5;28;01mTrue\u001b[39;00m:\n\u001b[32m--> \u001b[39m\u001b[32m477\u001b[39m     do = \u001b[38;5;28;43mself\u001b[39;49m\u001b[43m.\u001b[49m\u001b[43miter\u001b[49m\u001b[43m(\u001b[49m\u001b[43mretry_state\u001b[49m\u001b[43m=\u001b[49m\u001b[43mretry_state\u001b[49m\u001b[43m)\u001b[49m\n\u001b[32m    478\u001b[39m     \u001b[38;5;28;01mif\u001b[39;00m \u001b[38;5;28misinstance\u001b[39m(do, DoAttempt):\n\u001b[32m    479\u001b[39m         \u001b[38;5;28;01mtry\u001b[39;00m:\n",
      "\u001b[36mFile \u001b[39m\u001b[32md:\\App\\Miniconda\\envs\\chatbot\\Lib\\site-packages\\tenacity\\__init__.py:378\u001b[39m, in \u001b[36mBaseRetrying.iter\u001b[39m\u001b[34m(self, retry_state)\u001b[39m\n\u001b[32m    376\u001b[39m result = \u001b[38;5;28;01mNone\u001b[39;00m\n\u001b[32m    377\u001b[39m \u001b[38;5;28;01mfor\u001b[39;00m action \u001b[38;5;129;01min\u001b[39;00m \u001b[38;5;28mself\u001b[39m.iter_state.actions:\n\u001b[32m--> \u001b[39m\u001b[32m378\u001b[39m     result = \u001b[43maction\u001b[49m\u001b[43m(\u001b[49m\u001b[43mretry_state\u001b[49m\u001b[43m)\u001b[49m\n\u001b[32m    379\u001b[39m \u001b[38;5;28;01mreturn\u001b[39;00m result\n",
      "\u001b[36mFile \u001b[39m\u001b[32md:\\App\\Miniconda\\envs\\chatbot\\Lib\\site-packages\\tenacity\\__init__.py:420\u001b[39m, in \u001b[36mBaseRetrying._post_stop_check_actions.<locals>.exc_check\u001b[39m\u001b[34m(rs)\u001b[39m\n\u001b[32m    418\u001b[39m retry_exc = \u001b[38;5;28mself\u001b[39m.retry_error_cls(fut)\n\u001b[32m    419\u001b[39m \u001b[38;5;28;01mif\u001b[39;00m \u001b[38;5;28mself\u001b[39m.reraise:\n\u001b[32m--> \u001b[39m\u001b[32m420\u001b[39m     \u001b[38;5;28;01mraise\u001b[39;00m \u001b[43mretry_exc\u001b[49m\u001b[43m.\u001b[49m\u001b[43mreraise\u001b[49m\u001b[43m(\u001b[49m\u001b[43m)\u001b[49m\n\u001b[32m    421\u001b[39m \u001b[38;5;28;01mraise\u001b[39;00m retry_exc \u001b[38;5;28;01mfrom\u001b[39;00m\u001b[38;5;250m \u001b[39m\u001b[34;01mfut\u001b[39;00m\u001b[34;01m.\u001b[39;00m\u001b[34;01mexception\u001b[39;00m()\n",
      "\u001b[36mFile \u001b[39m\u001b[32md:\\App\\Miniconda\\envs\\chatbot\\Lib\\site-packages\\tenacity\\__init__.py:187\u001b[39m, in \u001b[36mRetryError.reraise\u001b[39m\u001b[34m(self)\u001b[39m\n\u001b[32m    185\u001b[39m \u001b[38;5;28;01mdef\u001b[39;00m\u001b[38;5;250m \u001b[39m\u001b[34mreraise\u001b[39m(\u001b[38;5;28mself\u001b[39m) -> t.NoReturn:\n\u001b[32m    186\u001b[39m     \u001b[38;5;28;01mif\u001b[39;00m \u001b[38;5;28mself\u001b[39m.last_attempt.failed:\n\u001b[32m--> \u001b[39m\u001b[32m187\u001b[39m         \u001b[38;5;28;01mraise\u001b[39;00m \u001b[38;5;28;43mself\u001b[39;49m\u001b[43m.\u001b[49m\u001b[43mlast_attempt\u001b[49m\u001b[43m.\u001b[49m\u001b[43mresult\u001b[49m\u001b[43m(\u001b[49m\u001b[43m)\u001b[49m\n\u001b[32m    188\u001b[39m     \u001b[38;5;28;01mraise\u001b[39;00m \u001b[38;5;28mself\u001b[39m\n",
      "\u001b[36mFile \u001b[39m\u001b[32md:\\App\\Miniconda\\envs\\chatbot\\Lib\\concurrent\\futures\\_base.py:449\u001b[39m, in \u001b[36mFuture.result\u001b[39m\u001b[34m(self, timeout)\u001b[39m\n\u001b[32m    447\u001b[39m     \u001b[38;5;28;01mraise\u001b[39;00m CancelledError()\n\u001b[32m    448\u001b[39m \u001b[38;5;28;01melif\u001b[39;00m \u001b[38;5;28mself\u001b[39m._state == FINISHED:\n\u001b[32m--> \u001b[39m\u001b[32m449\u001b[39m     \u001b[38;5;28;01mreturn\u001b[39;00m \u001b[38;5;28;43mself\u001b[39;49m\u001b[43m.\u001b[49m\u001b[43m__get_result\u001b[49m\u001b[43m(\u001b[49m\u001b[43m)\u001b[49m\n\u001b[32m    451\u001b[39m \u001b[38;5;28mself\u001b[39m._condition.wait(timeout)\n\u001b[32m    453\u001b[39m \u001b[38;5;28;01mif\u001b[39;00m \u001b[38;5;28mself\u001b[39m._state \u001b[38;5;129;01min\u001b[39;00m [CANCELLED, CANCELLED_AND_NOTIFIED]:\n",
      "\u001b[36mFile \u001b[39m\u001b[32md:\\App\\Miniconda\\envs\\chatbot\\Lib\\concurrent\\futures\\_base.py:401\u001b[39m, in \u001b[36mFuture.__get_result\u001b[39m\u001b[34m(self)\u001b[39m\n\u001b[32m    399\u001b[39m \u001b[38;5;28;01mif\u001b[39;00m \u001b[38;5;28mself\u001b[39m._exception:\n\u001b[32m    400\u001b[39m     \u001b[38;5;28;01mtry\u001b[39;00m:\n\u001b[32m--> \u001b[39m\u001b[32m401\u001b[39m         \u001b[38;5;28;01mraise\u001b[39;00m \u001b[38;5;28mself\u001b[39m._exception\n\u001b[32m    402\u001b[39m     \u001b[38;5;28;01mfinally\u001b[39;00m:\n\u001b[32m    403\u001b[39m         \u001b[38;5;66;03m# Break a reference cycle with the exception in self._exception\u001b[39;00m\n\u001b[32m    404\u001b[39m         \u001b[38;5;28mself\u001b[39m = \u001b[38;5;28;01mNone\u001b[39;00m\n",
      "\u001b[36mFile \u001b[39m\u001b[32md:\\App\\Miniconda\\envs\\chatbot\\Lib\\site-packages\\tenacity\\__init__.py:480\u001b[39m, in \u001b[36mRetrying.__call__\u001b[39m\u001b[34m(self, fn, *args, **kwargs)\u001b[39m\n\u001b[32m    478\u001b[39m \u001b[38;5;28;01mif\u001b[39;00m \u001b[38;5;28misinstance\u001b[39m(do, DoAttempt):\n\u001b[32m    479\u001b[39m     \u001b[38;5;28;01mtry\u001b[39;00m:\n\u001b[32m--> \u001b[39m\u001b[32m480\u001b[39m         result = \u001b[43mfn\u001b[49m\u001b[43m(\u001b[49m\u001b[43m*\u001b[49m\u001b[43margs\u001b[49m\u001b[43m,\u001b[49m\u001b[43m \u001b[49m\u001b[43m*\u001b[49m\u001b[43m*\u001b[49m\u001b[43mkwargs\u001b[49m\u001b[43m)\u001b[49m\n\u001b[32m    481\u001b[39m     \u001b[38;5;28;01mexcept\u001b[39;00m \u001b[38;5;167;01mBaseException\u001b[39;00m:  \u001b[38;5;66;03m# noqa: B902\u001b[39;00m\n\u001b[32m    482\u001b[39m         retry_state.set_exception(sys.exc_info())  \u001b[38;5;66;03m# type: ignore[arg-type]\u001b[39;00m\n",
      "\u001b[36mFile \u001b[39m\u001b[32md:\\App\\Miniconda\\envs\\chatbot\\Lib\\site-packages\\google\\genai\\_api_client.py:1120\u001b[39m, in \u001b[36mBaseApiClient._request_once\u001b[39m\u001b[34m(self, http_request, stream)\u001b[39m\n\u001b[32m   1112\u001b[39m \u001b[38;5;28;01melse\u001b[39;00m:\n\u001b[32m   1113\u001b[39m   response = \u001b[38;5;28mself\u001b[39m._httpx_client.request(\n\u001b[32m   1114\u001b[39m       method=http_request.method,\n\u001b[32m   1115\u001b[39m       url=http_request.url,\n\u001b[32m   (...)\u001b[39m\u001b[32m   1118\u001b[39m       timeout=http_request.timeout,\n\u001b[32m   1119\u001b[39m   )\n\u001b[32m-> \u001b[39m\u001b[32m1120\u001b[39m   \u001b[43merrors\u001b[49m\u001b[43m.\u001b[49m\u001b[43mAPIError\u001b[49m\u001b[43m.\u001b[49m\u001b[43mraise_for_response\u001b[49m\u001b[43m(\u001b[49m\u001b[43mresponse\u001b[49m\u001b[43m)\u001b[49m\n\u001b[32m   1121\u001b[39m   \u001b[38;5;28;01mreturn\u001b[39;00m HttpResponse(\n\u001b[32m   1122\u001b[39m       response.headers, response \u001b[38;5;28;01mif\u001b[39;00m stream \u001b[38;5;28;01melse\u001b[39;00m [response.text]\n\u001b[32m   1123\u001b[39m   )\n",
      "\u001b[36mFile \u001b[39m\u001b[32md:\\App\\Miniconda\\envs\\chatbot\\Lib\\site-packages\\google\\genai\\errors.py:108\u001b[39m, in \u001b[36mAPIError.raise_for_response\u001b[39m\u001b[34m(cls, response)\u001b[39m\n\u001b[32m    106\u001b[39m status_code = response.status_code\n\u001b[32m    107\u001b[39m \u001b[38;5;28;01mif\u001b[39;00m \u001b[32m400\u001b[39m <= status_code < \u001b[32m500\u001b[39m:\n\u001b[32m--> \u001b[39m\u001b[32m108\u001b[39m   \u001b[38;5;28;01mraise\u001b[39;00m ClientError(status_code, response_json, response)\n\u001b[32m    109\u001b[39m \u001b[38;5;28;01melif\u001b[39;00m \u001b[32m500\u001b[39m <= status_code < \u001b[32m600\u001b[39m:\n\u001b[32m    110\u001b[39m   \u001b[38;5;28;01mraise\u001b[39;00m ServerError(status_code, response_json, response)\n",
      "\u001b[31mClientError\u001b[39m: 400 INVALID_ARGUMENT. {'error': {'code': 400, 'message': 'Multi-modal output is not supported.', 'status': 'INVALID_ARGUMENT'}}"
     ]
    }
   ],
   "source": [
    "generate_multi_style_image(\n",
    "    content_uri=\"https://storage.googleapis.com/guidepassasia_chatbot/1.jpg\",\n",
    "    style_uris=[\n",
    "        \"https://storage.googleapis.com/guidepassasia_chatbot/e137b9da-7278-49d6-8e68-1fe7183c513e.png\",\n",
    "    ],\n",
    "    aspect_ratio=\"16:9\",\n",
    "    prompt=\"Keep the subject and framing of the content image, \"\n",
    "           \"but make it look like it was painted in the style of the reference images.\"\n",
    ")\n"
   ]
  },
  {
   "cell_type": "code",
   "execution_count": 28,
   "id": "5a346cc8",
   "metadata": {},
   "outputs": [],
   "source": [
    "from Database.db import MultiDBManager"
   ]
  },
  {
   "cell_type": "code",
   "execution_count": 30,
   "id": "674c663f",
   "metadata": {},
   "outputs": [],
   "source": [
    "db = MultiDBManager()"
   ]
  },
  {
   "cell_type": "code",
   "execution_count": 31,
   "id": "1ea029e9",
   "metadata": {},
   "outputs": [
    {
     "ename": "AttributeError",
     "evalue": "'MultiDBManager' object has no attribute 'run_query'",
     "output_type": "error",
     "traceback": [
      "\u001b[31m---------------------------------------------------------------------------\u001b[39m",
      "\u001b[31mAttributeError\u001b[39m                            Traceback (most recent call last)",
      "\u001b[36mCell\u001b[39m\u001b[36m \u001b[39m\u001b[32mIn[31]\u001b[39m\u001b[32m, line 1\u001b[39m\n\u001b[32m----> \u001b[39m\u001b[32m1\u001b[39m rows = \u001b[43mdb\u001b[49m\u001b[43m.\u001b[49m\u001b[43mrun_query\u001b[49m(\u001b[32m3\u001b[39m, \u001b[33m\"\u001b[39m\u001b[33mSELECT TOP 10 * FROM Attractions\u001b[39m\u001b[33m\"\u001b[39m)\n",
      "\u001b[31mAttributeError\u001b[39m: 'MultiDBManager' object has no attribute 'run_query'"
     ]
    }
   ],
   "source": [
    "rows = db.run_query(3, \"SELECT TOP 10 * FROM Attractions\")"
   ]
  },
  {
   "cell_type": "code",
   "execution_count": 1,
   "id": "dec1d212",
   "metadata": {},
   "outputs": [],
   "source": [
    "from sqlalchemy import text\n",
    "\n",
    "class DBWrapper:\n",
    "    \"\"\"Gói SQLAlchemy engine thành interface có run_query()\"\"\"\n",
    "    def __init__(self, engine):\n",
    "        self.engine = engine\n",
    "\n",
    "    def run_query(self, sql: str, params: dict = None):\n",
    "        \"\"\"\n",
    "        Thực thi câu SQL và trả kết quả dạng list[dict]\n",
    "        \"\"\"\n",
    "        try:\n",
    "            with self.engine.connect() as conn:\n",
    "                result = conn.execute(text(sql), params or {})\n",
    "                return [dict(r._mapping) for r in result]\n",
    "        except Exception as e:\n",
    "            print(f\"[DBWrapper] ⚠️ Query failed: {e}\")\n",
    "            return []\n"
   ]
  },
  {
   "cell_type": "code",
   "execution_count": 5,
   "id": "e982a899",
   "metadata": {},
   "outputs": [
    {
     "name": "stdout",
     "output_type": "stream",
     "text": [
      "[DBManager] ✅ Created engine for region 3: 112.78.2.156\n",
      "{'SubProjectAttractionID': 6, 'POI': '406', 'SubProjectID': 4, 'AttractionName': 'Eiffel Tower', 'AttractionImage': '/images/2dc6fa16-f8bf-47f8-89e5-8e7f3e95d4c8_1721397.jpg', 'Introduction': 'The Eiffel Tower, Paris’s most iconic landmark, rises gracefully above the city skyline as a symbol of elegance, innovation, and romance. Completed in 1889 for the World’s Fair, this iron masterpiece by Gustave Eiffel was once considered controversial, but today it is the very heart of Paris. From its base, you can gaze up at the intricate lattice of steel that seems to dance with light, and from its summit, the entire city unfolds like a breathtaking panorama—bridges crossing the Seine, grand boulevards, and rooftops stretching toward the horizon.\\r\\n\\r\\nDay or night, the Eiffel Tower offers a magical experience. By day, it gleams under the Parisian sun; by night, it transforms into a beacon of light, sparkling every hour in a dazzling show that captivates millions of visitors each year. Whether you choose to admire it from Champ de Mars, cruise the Seine beneath its shadow, or ascend its platforms to embrace the sky, the Eiffel Tower is not just a monument—it is a memory etched forever in the heart of every traveler.'}\n",
      "{'SubProjectAttractionID': 8, 'POI': '408', 'SubProjectID': 4, 'AttractionName': 'Arc de Triomphe', 'AttractionImage': '/images/c31df96c-76ad-4800-90fd-89e54f1b343e_Arc de Triomphe.jpg', 'Introduction': 'Standing proudly at the western end of the Champs-Élysées, the Arc de Triomphe is a triumphal arch that celebrates French military victories. Commissioned by Napoleon Bonaparte in 1806, its intricate carvings depict battles and famous figures from French history. Climb to the top for panoramic views of the Champs-Élysées stretching towards the Louvre Museum and beyond. Witness the eternal flame at the base, honoring unknown soldiers who died for France. The Arc de Triomphe is a powerful symbol of French patriotism and a must-see landmark for any Paris visitor, offering a blend of history, architecture, and breathtaking vistas.'}\n",
      "{'SubProjectAttractionID': 9, 'POI': '409', 'SubProjectID': 4, 'AttractionName': 'Seine River', 'AttractionImage': '/images/e49cdca9-8d7a-4a23-b52c-4714f78c03bb_Seine River.jpg', 'Introduction': \"The Seine River, the very lifeblood of Paris, winds gracefully through the city's heart. Its picturesque banks are lined with iconic landmarks like the Louvre and Notre Dame, while charming cafes and bustling streetscapes add to the vibrant atmosphere. Embark on a scenic river cruise to admire the city from a different perspective, or simply stroll along the Seine's banks, taking in the Parisian way of life. Enjoy a picnic lunch on a sunny afternoon, rent a boat for a romantic exploration, or simply relax on a bench and watch the world go by. The Seine River is more than just a waterway; it's a Parisian icon and an essential part of the city's charm.\"}\n",
      "{'SubProjectAttractionID': 10, 'POI': '410', 'SubProjectID': 4, 'AttractionName': 'Pont Alexandre III', 'AttractionImage': '/images/48e71768-83f9-470f-b653-ddc96d5a83d9_Pont Alexandre III.jpg', 'Introduction': 'Paris boasts a stunning bridge that blends grandeur with artistic flair: Pont Alexandre III. This extravagant deck arch bridge, adorned with gilded nymphs, winged horses, and intricate sculptures by renowned artists like Rodin, gracefully traverses the Seine. Inaugurated in 1900, it connects the Champs-Élysées to the Invalides and Eiffel Tower, offering a picturesque passage between iconic landmarks. Stroll across Pont Alexandre III to admire its opulent details, soak in panoramic river views, and capture the essence of Parisian grandeur.'}\n",
      "{'SubProjectAttractionID': 11, 'POI': '411', 'SubProjectID': 4, 'AttractionName': 'Champs-Elysees', 'AttractionImage': '/images/826da340-e88b-4553-be8e-055906848ecc_Champs-Elysees.jpg', 'Introduction': 'Stroll down the grand avenue that epitomizes Parisian elegance: Champs-Élysées. Nicknamed \"the most beautiful avenue in the world,\" this majestic 1.9-kilometer stretch stretches from the Louvre Museum to the Arc de Triomphe. Window-shop at luxury boutiques lining the avenue, or delve into historic side streets. Admire the manicured gardens and vibrant flower displays. People-watch at sidewalk cafes, sipping coffee and soaking in the Parisian atmosphere. In the evening, witness the avenue come alive with twinkling lights, making Champs-Élysées a must-visit for a quintessential Parisian experience.'}\n",
      "{'SubProjectAttractionID': 12, 'POI': '412', 'SubProjectID': 4, 'AttractionName': 'Place des Vosges', 'AttractionImage': '/images/e44f8333-f7c6-4685-b3db-ee9d1327b2ef_Place des Vosges.jpg', 'Introduction': 'Steeped in history and architectural charm, Place des Vosges is a tranquil oasis in the heart of Paris. This elegant square, the oldest planned square in the city, was built in the early 17th century by King Henry IV. Wander through its arcaded perimeter, admiring the symmetrical red-brick buildings with their slate roofs. Imagine a bygone era where artists and nobility resided here. Relax in the central garden, adorned with manicured lawns and a central fountain, a popular spot for locals and visitors alike to unwind. Place des Vosges offers a delightful escape from the bustling streets, a glimpse into Parisian history, and a quintessential Parisian square.'}\n",
      "{'SubProjectAttractionID': 13, 'POI': '413', 'SubProjectID': 4, 'AttractionName': 'Quartier Latin', 'AttractionImage': '/images/e4bcf743-d3e1-4e36-b5b1-5b3d2f203e4b_Quartier Latin.jpg', 'Introduction': \"Steeped in academic tradition and youthful energy, the Latin Quarter (Quartier Latin) is a vibrant district brimming with history and Parisian charm. Located on the Left Bank (Rive Gauche) of the Seine, this area has been a center of learning since the Middle Ages, with the prestigious Sorbonne University at its heart. Stroll along narrow streets lined with charming cafes, independent bookstores, and vintage shops. Wander through picturesque squares like Place de la Sorbonne, and soak in the intellectual atmosphere. The Latin Quarter caters to all interests, from history buffs visiting the Panthéon, a mausoleum for France's greatest minds, to art lovers exploring the Luxembourg Gardens. Whether you're seeking a cup of coffee and a good book, a night of lively pub crawls, or a glimpse into Parisian academic life, the Latin Quarter offers something for everyone.\"}\n",
      "{'SubProjectAttractionID': 14, 'POI': '414', 'SubProjectID': 4, 'AttractionName': 'Père-Lachaise Cemetery', 'AttractionImage': '/images/2f9c513b-626f-4bdd-a2b2-5a077af2746d_Père-Lachaise Cemetery.jpg', 'Introduction': \"History buffs and culture vultures shouldn't miss Père Lachaise Cemetery (Cimetière du Père Lachaise). This sprawling graveyard, the largest in Paris, is more than just a final resting place; it's an open-air museum teeming with sculpted monuments and tombs. Wander its labyrinthine paths to pay your respects (or snap a photo) at the graves of iconic figures like Jim Morrison, Oscar Wilde, and Édith Piaf. Admire the neoclassical and Art Deco funerary art, from elaborate mausoleums to hauntingly beautiful statues. Père Lachaise Cemetery offers a unique blend of history, art, and a touch of the macabre, making it a fascinating and unforgettable Parisian landmark.\"}\n",
      "{'SubProjectAttractionID': 15, 'POI': '415', 'SubProjectID': 4, 'AttractionName': 'Bastille Market', 'AttractionImage': '/images/ff35aea8-a841-44ac-982d-0ef43963ac71_Bastille Market.jpg', 'Introduction': \"Parisians seeking fresh produce, local specialties, and a vibrant atmosphere can't miss the Bastille Market. Held every Thursday and Sunday morning on Boulevard Richard Lenoir, this bustling market is a feast for the senses. Over 100 vendors line the street, offering a colorful array of fresh fruits and vegetables, local cheeses and cured meats, fragrant flowers, and gourmet delicacies. Foodies can indulge in fresh-baked bread and pastries, while those seeking unique souvenirs can browse stalls overflowing with handcrafted jewelry, clothing, and homewares. The Bastille Market pulsates with Parisian energy, offering a glimpse into the local lifestyle and a chance to stock up on fresh produce and delicious treats.\"}\n",
      "{'SubProjectAttractionID': 16, 'POI': '416', 'SubProjectID': 4, 'AttractionName': 'Ile Saint-Louis', 'AttractionImage': '/images/e7fdc0cb-ac84-4444-8993-596879e4afda_Ile Saint-Louis.jpg', 'Introduction': \"Nestled in the heart of the Seine, Île Saint-Louis is a charming island offering a taste of Parisian tranquility. Unlike its larger neighbor, Île de la Cité, it boasts a peaceful atmosphere ideal for a relaxed stroll. Wander through narrow streets lined with 17th-century townhouses, many housing art galleries and antique shops. Indulge in a decadent pastry at a historic cafe or savor a gourmet meal at a restaurant with river views. Seek out the beautiful Baroque church, Église Saint-Louis-en-l'Île, or simply relax on a bench and admire the passing boats on the Seine. Île Saint-Louis offers a delightful escape from the bustling city center, a Parisian haven steeped in history and charm.\"}\n"
     ]
    },
    {
     "name": "stdout",
     "output_type": "stream",
     "text": [
      "[DBManager] 💤 Disposing idle engine for region 3 (112.78.2.156)\n"
     ]
    }
   ],
   "source": [
    "from Database.db import MultiDBManager\n",
    "\n",
    "# Khởi tạo DB manager\n",
    "dbm = MultiDBManager()\n",
    "\n",
    "# Lấy engine theo region (ví dụ region 3)\n",
    "engine = dbm.get_engine(3)\n",
    "\n",
    "# Gói engine vào DBWrapper\n",
    "db = DBWrapper(engine)\n",
    "\n",
    "# Chạy query\n",
    "rows = db.run_query(\"SELECT TOP 10 * FROM pro92766_proguidepass.SubProjectAttractions\")\n",
    "for row in rows:\n",
    "    print(row)\n"
   ]
  },
  {
   "cell_type": "code",
   "execution_count": null,
   "id": "0da505db",
   "metadata": {},
   "outputs": [],
   "source": []
  }
 ],
 "metadata": {
  "kernelspec": {
   "display_name": "chatbot",
   "language": "python",
   "name": "python3"
  },
  "language_info": {
   "codemirror_mode": {
    "name": "ipython",
    "version": 3
   },
   "file_extension": ".py",
   "mimetype": "text/x-python",
   "name": "python",
   "nbconvert_exporter": "python",
   "pygments_lexer": "ipython3",
   "version": "3.11.13"
  }
 },
 "nbformat": 4,
 "nbformat_minor": 5
}
